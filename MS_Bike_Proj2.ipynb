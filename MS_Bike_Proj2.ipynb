{
 "cells": [
  {
   "cell_type": "markdown",
   "metadata": {},
   "source": [
    "##  MS BIKES 2 Projects \n",
    "### Akanksha Jain"
   ]
  },
  {
   "cell_type": "code",
   "execution_count": 1,
   "metadata": {},
   "outputs": [
    {
     "data": {
      "text/html": [
       "<style>\n",
       "    @font-face {\n",
       "        font-family: \"Computer Modern\";\n",
       "        src: url('http://mirrors.ctan.org/fonts/cm-unicode/fonts/otf/cmunss.otf');\n",
       "    }\n",
       "    div.cell{\n",
       "        width: 90%;\n",
       "/*        margin-left:auto;*/\n",
       "/*        margin-right:auto;*/\n",
       "    }\n",
       "    ul {\n",
       "        line-height: 145%;\n",
       "        font-size: 90%;\n",
       "    }\n",
       "    li {\n",
       "        margin-bottom: 1em;\n",
       "    }\n",
       "    h1 {\n",
       "        font-family: Helvetica, serif;\n",
       "    }\n",
       "    h4{\n",
       "        margin-top: 12px;\n",
       "        margin-bottom: 3px;\n",
       "       }\n",
       "    div.text_cell_render{\n",
       "        font-family: Computer Modern, \"Helvetica Neue\", Arial, Helvetica, Geneva, sans-serif;\n",
       "        line-height: 145%;\n",
       "        font-size: 130%;\n",
       "        width: 90%;\n",
       "        margin-left:auto;\n",
       "        margin-right:auto;\n",
       "    }\n",
       "    .CodeMirror{\n",
       "            font-family: \"Source Code Pro\", source-code-pro,Consolas, monospace;\n",
       "    }\n",
       "/*    .prompt{\n",
       "        display: None;\n",
       "    }*/\n",
       "    .text_cell_render h5 {\n",
       "        font-weight: 300;\n",
       "        font-size: 16pt;\n",
       "        color: #4057A1;\n",
       "        font-style: italic;\n",
       "        margin-bottom: 0.5em;\n",
       "        margin-top: 0.5em;\n",
       "        display: block;\n",
       "    }\n",
       "\n",
       "    .warning{\n",
       "        color: rgb( 240, 20, 20 )\n",
       "        }\n",
       "</style>\n",
       "<script>\n",
       "    MathJax.Hub.Config({\n",
       "                        TeX: {\n",
       "                           extensions: [\"AMSmath.js\"]\n",
       "                           },\n",
       "                tex2jax: {\n",
       "                    inlineMath: [ ['$','$'], [\"\\\\(\",\"\\\\)\"] ],\n",
       "                    displayMath: [ ['$$','$$'], [\"\\\\[\",\"\\\\]\"] ]\n",
       "                },\n",
       "                displayAlign: 'center', // Change this to 'center' to center equations.\n",
       "                \"HTML-CSS\": {\n",
       "                    styles: {'.MathJax_Display': {\"margin\": 4}}\n",
       "                }\n",
       "        });\n",
       "</script>"
      ],
      "text/plain": [
       "<IPython.core.display.HTML object>"
      ]
     },
     "execution_count": 1,
     "metadata": {},
     "output_type": "execute_result"
    }
   ],
   "source": [
    "from IPython.core.display import HTML\n",
    "def css_styling():\n",
    "    styles = open(\"/Users/akanksha/Documents/code/styles/custom.css\", \"r\").read()\n",
    "    return HTML(styles)\n",
    "css_styling()"
   ]
  },
  {
   "cell_type": "markdown",
   "metadata": {},
   "source": [
    "### Setup"
   ]
  },
  {
   "cell_type": "code",
   "execution_count": 2,
   "metadata": {
    "collapsed": true
   },
   "outputs": [],
   "source": [
    "# To support both python 2 and python 3\n",
    "from __future__ import division, print_function, unicode_literals\n",
    "\n",
    "# Common imports\n",
    "import numpy as np\n",
    "import os\n",
    "\n",
    "# to make this notebook's output stable across runs\n",
    "np.random.seed(42)\n",
    "\n",
    "# To plot pretty figures\n",
    "%matplotlib inline\n",
    "import matplotlib\n",
    "import matplotlib.pyplot as plt\n",
    "plt.rcParams['axes.labelsize'] = 14\n",
    "plt.rcParams['xtick.labelsize'] = 12\n",
    "plt.rcParams['ytick.labelsize'] = 12\n",
    "\n",
    "# pandas imports\n",
    "import pandas as pd\n",
    "from pandas import Series, DataFrame\n",
    "pd.set_option('display.max_columns', None) # enables showing all columns\n",
    "pd.options.display.max_rows = 100\n",
    "PREVIOUS_MAX_ROWS = pd.options.display.max_rows\n",
    "pd.options.display.notebook_repr_html = True\n",
    "np.set_printoptions(precision=4, suppress=True)\n",
    "    \n",
    "# seaborn imports\n",
    "import seaborn as sns\n",
    "sns.set(color_codes=True)\n",
    "\n",
    "# bokeh imports\n",
    "from bokeh.io import output_file, output_notebook, show\n",
    "from bokeh.plotting import figure\n",
    "\n",
    "# ignore warnings\n",
    "import warnings\n",
    "warnings.filterwarnings('ignore')\n",
    "#warnings.filterwarnings(action='once') #enable if needed to see the warning the first time."
   ]
  },
  {
   "cell_type": "markdown",
   "metadata": {},
   "source": [
    "## Bike MS \n",
    "Bike MS is National MS Society’s largest fundraising campaign, engaging over 70,000 participants to raise $68 million in over 75 rides across the country. It is the largest charity cycling series in the United States.\n",
    "\n",
    "The rides are typically one- or two-day events that are a reasonable driving distance within metropolitan areas and are fully supported with first aid, mechanics, rest areas, shuttles, and more. When not on the route, activity is centered in a “village” atmosphere where participants have access to vendors, dining, beer gardens, camping (in some locations), team tents, and entertainment. The routes themselves range from 10 to 100 miles per day and cyclists can decide for themselves which route to ride.\n",
    "\n",
    "The events are team-focused, with teams responsible for 87% of fundraising. Because of participant demographics (mostly male, middle age, higher income earners),Bike MS is an ideal corporate event and that corporate teams of 10 or more cyclists are seven times more valuable than any other kind of team. Companies with a large professional employee base, especially those with a corporate culture of health and wellness – regardless of industry – are key prospects.\n",
    "\n",
    "Over the years, the charity cycling space has become very crowded with many events vying for the same audience. Bike MS participation and revenue have seen a steady decline since the peak in 2012. While retention is relatively high – over 50% – there are not enough new participants joining the series to reverse the damage caused by attrition. \n",
    "\n",
    "## The project is to predict whether teams will be able to meet their goal of raising funds and the different factors that impact it. "
   ]
  },
  {
   "cell_type": "code",
   "execution_count": 3,
   "metadata": {},
   "outputs": [
    {
     "data": {
      "text/html": [
       "<div>\n",
       "<style scoped>\n",
       "    .dataframe tbody tr th:only-of-type {\n",
       "        vertical-align: middle;\n",
       "    }\n",
       "\n",
       "    .dataframe tbody tr th {\n",
       "        vertical-align: top;\n",
       "    }\n",
       "\n",
       "    .dataframe thead th {\n",
       "        text-align: right;\n",
       "    }\n",
       "</style>\n",
       "<table border=\"1\" class=\"dataframe\">\n",
       "  <thead>\n",
       "    <tr style=\"text-align: right;\">\n",
       "      <th></th>\n",
       "      <th>Event Type</th>\n",
       "      <th>Internal Event Name</th>\n",
       "      <th>Event ID</th>\n",
       "      <th>Team ID</th>\n",
       "      <th>Team Name</th>\n",
       "      <th>Team Creation Date</th>\n",
       "      <th>Team Captain Contact ID</th>\n",
       "      <th>Captain Email Domain</th>\n",
       "      <th>Team Captain Accept Email</th>\n",
       "      <th>Team Division</th>\n",
       "      <th>Company</th>\n",
       "      <th>Number of Participants</th>\n",
       "      <th>Total Fees Paid</th>\n",
       "      <th>Team Total Confirmed ($)</th>\n",
       "      <th>Total Online Gifts($)</th>\n",
       "      <th>Total Offline Confirmed Gifts($)</th>\n",
       "      <th>Total Offline Unconfirmed Gifts($)</th>\n",
       "      <th>Team Goal($)</th>\n",
       "      <th>Total Confirmed Gifts in Team History($)</th>\n",
       "      <th>Previous Event Fiscal Year</th>\n",
       "      <th>Previous Event Internal Name</th>\n",
       "      <th>Previous Event Team Name</th>\n",
       "      <th>Previous Event Confirmed Gifts($)</th>\n",
       "      <th>Previous Event Team Members</th>\n",
       "      <th>Event Date</th>\n",
       "      <th>Fiscal Year</th>\n",
       "    </tr>\n",
       "  </thead>\n",
       "  <tbody>\n",
       "    <tr>\n",
       "      <th>0</th>\n",
       "      <td>Bike</td>\n",
       "      <td>2013 Bike MS Hawaii</td>\n",
       "      <td>21136</td>\n",
       "      <td>320012</td>\n",
       "      <td>AKAMAI HAWAII</td>\n",
       "      <td>1/13/2013 0:38</td>\n",
       "      <td>9560000</td>\n",
       "      <td>gmail.com</td>\n",
       "      <td>TRUE</td>\n",
       "      <td>Ohana</td>\n",
       "      <td>Akamai Hawaii</td>\n",
       "      <td>8</td>\n",
       "      <td>60.0</td>\n",
       "      <td>4551</td>\n",
       "      <td>3256.0</td>\n",
       "      <td>1295.0</td>\n",
       "      <td>575.0</td>\n",
       "      <td>1500.0</td>\n",
       "      <td>4551.0</td>\n",
       "      <td>NaN</td>\n",
       "      <td>NaN</td>\n",
       "      <td>NaN</td>\n",
       "      <td>0.0</td>\n",
       "      <td>0</td>\n",
       "      <td>8/3/2013 15:57</td>\n",
       "      <td>2013.0</td>\n",
       "    </tr>\n",
       "    <tr>\n",
       "      <th>1</th>\n",
       "      <td>Bike</td>\n",
       "      <td>2013 Bike MS Hawaii</td>\n",
       "      <td>21136</td>\n",
       "      <td>344048</td>\n",
       "      <td>Are We There Yet?</td>\n",
       "      <td>4/16/2013 21:02</td>\n",
       "      <td>11751773</td>\n",
       "      <td>gmail.com</td>\n",
       "      <td>TRUE</td>\n",
       "      <td>Ohana</td>\n",
       "      <td>NaN</td>\n",
       "      <td>3</td>\n",
       "      <td>0.0</td>\n",
       "      <td>0</td>\n",
       "      <td>0.0</td>\n",
       "      <td>0.0</td>\n",
       "      <td>0.0</td>\n",
       "      <td>0.0</td>\n",
       "      <td>0.0</td>\n",
       "      <td>NaN</td>\n",
       "      <td>NaN</td>\n",
       "      <td>NaN</td>\n",
       "      <td>0.0</td>\n",
       "      <td>0</td>\n",
       "      <td>8/3/2013 15:57</td>\n",
       "      <td>2013.0</td>\n",
       "    </tr>\n",
       "    <tr>\n",
       "      <th>2</th>\n",
       "      <td>Bike</td>\n",
       "      <td>2013 Bike MS Hawaii</td>\n",
       "      <td>21136</td>\n",
       "      <td>351448</td>\n",
       "      <td>Big Island Honda</td>\n",
       "      <td>7/29/2013 16:47</td>\n",
       "      <td>12450037</td>\n",
       "      <td>fjhawaii.com</td>\n",
       "      <td>TRUE</td>\n",
       "      <td>Corporate</td>\n",
       "      <td>NaN</td>\n",
       "      <td>1</td>\n",
       "      <td>30.0</td>\n",
       "      <td>35</td>\n",
       "      <td>35.0</td>\n",
       "      <td>0.0</td>\n",
       "      <td>0.0</td>\n",
       "      <td>0.0</td>\n",
       "      <td>35.0</td>\n",
       "      <td>NaN</td>\n",
       "      <td>NaN</td>\n",
       "      <td>NaN</td>\n",
       "      <td>0.0</td>\n",
       "      <td>0</td>\n",
       "      <td>8/3/2013 15:57</td>\n",
       "      <td>2013.0</td>\n",
       "    </tr>\n",
       "    <tr>\n",
       "      <th>3</th>\n",
       "      <td>Bike</td>\n",
       "      <td>2013 Bike MS Hawaii</td>\n",
       "      <td>21136</td>\n",
       "      <td>350109</td>\n",
       "      <td>Club Rehab, Team FTC</td>\n",
       "      <td>6/25/2013 21:07</td>\n",
       "      <td>12425732</td>\n",
       "      <td>gmail.com</td>\n",
       "      <td>TRUE</td>\n",
       "      <td>Ohana</td>\n",
       "      <td>Club Rehab</td>\n",
       "      <td>1</td>\n",
       "      <td>30.0</td>\n",
       "      <td>505</td>\n",
       "      <td>355.0</td>\n",
       "      <td>150.0</td>\n",
       "      <td>0.0</td>\n",
       "      <td>500.0</td>\n",
       "      <td>505.0</td>\n",
       "      <td>NaN</td>\n",
       "      <td>NaN</td>\n",
       "      <td>NaN</td>\n",
       "      <td>0.0</td>\n",
       "      <td>0</td>\n",
       "      <td>8/3/2013 15:57</td>\n",
       "      <td>2013.0</td>\n",
       "    </tr>\n",
       "    <tr>\n",
       "      <th>4</th>\n",
       "      <td>Bike</td>\n",
       "      <td>2013 Bike MS Hawaii</td>\n",
       "      <td>21136</td>\n",
       "      <td>349891</td>\n",
       "      <td>Kelsie's Team</td>\n",
       "      <td>6/20/2013 12:16</td>\n",
       "      <td>10726754</td>\n",
       "      <td>yahoo.com</td>\n",
       "      <td>TRUE</td>\n",
       "      <td>Ohana</td>\n",
       "      <td>NaN</td>\n",
       "      <td>8</td>\n",
       "      <td>240.0</td>\n",
       "      <td>5065</td>\n",
       "      <td>3810.0</td>\n",
       "      <td>1255.0</td>\n",
       "      <td>460.0</td>\n",
       "      <td>2500.0</td>\n",
       "      <td>5065.0</td>\n",
       "      <td>NaN</td>\n",
       "      <td>NaN</td>\n",
       "      <td>NaN</td>\n",
       "      <td>0.0</td>\n",
       "      <td>0</td>\n",
       "      <td>8/3/2013 15:57</td>\n",
       "      <td>2013.0</td>\n",
       "    </tr>\n",
       "  </tbody>\n",
       "</table>\n",
       "</div>"
      ],
      "text/plain": [
       "  Event Type  Internal Event Name  Event ID  Team ID             Team Name  \\\n",
       "0       Bike  2013 Bike MS Hawaii     21136   320012         AKAMAI HAWAII   \n",
       "1       Bike  2013 Bike MS Hawaii     21136   344048     Are We There Yet?   \n",
       "2       Bike  2013 Bike MS Hawaii     21136   351448      Big Island Honda   \n",
       "3       Bike  2013 Bike MS Hawaii     21136   350109  Club Rehab, Team FTC   \n",
       "4       Bike  2013 Bike MS Hawaii     21136   349891         Kelsie's Team   \n",
       "\n",
       "  Team Creation Date Team Captain Contact ID Captain Email Domain  \\\n",
       "0     1/13/2013 0:38                 9560000            gmail.com   \n",
       "1    4/16/2013 21:02                11751773            gmail.com   \n",
       "2    7/29/2013 16:47                12450037         fjhawaii.com   \n",
       "3    6/25/2013 21:07                12425732            gmail.com   \n",
       "4    6/20/2013 12:16                10726754            yahoo.com   \n",
       "\n",
       "  Team Captain Accept Email Team Division        Company  \\\n",
       "0                      TRUE        Ohana   Akamai Hawaii   \n",
       "1                      TRUE        Ohana             NaN   \n",
       "2                      TRUE     Corporate            NaN   \n",
       "3                      TRUE        Ohana      Club Rehab   \n",
       "4                      TRUE        Ohana             NaN   \n",
       "\n",
       "   Number of Participants  Total Fees Paid Team Total Confirmed ($)  \\\n",
       "0                       8             60.0                     4551   \n",
       "1                       3              0.0                        0   \n",
       "2                       1             30.0                       35   \n",
       "3                       1             30.0                      505   \n",
       "4                       8            240.0                     5065   \n",
       "\n",
       "   Total Online Gifts($)  Total Offline Confirmed Gifts($)  \\\n",
       "0                 3256.0                            1295.0   \n",
       "1                    0.0                               0.0   \n",
       "2                   35.0                               0.0   \n",
       "3                  355.0                             150.0   \n",
       "4                 3810.0                            1255.0   \n",
       "\n",
       "   Total Offline Unconfirmed Gifts($)  Team Goal($)  \\\n",
       "0                               575.0        1500.0   \n",
       "1                                 0.0           0.0   \n",
       "2                                 0.0           0.0   \n",
       "3                                 0.0         500.0   \n",
       "4                               460.0        2500.0   \n",
       "\n",
       "   Total Confirmed Gifts in Team History($)  Previous Event Fiscal Year  \\\n",
       "0                                    4551.0                         NaN   \n",
       "1                                       0.0                         NaN   \n",
       "2                                      35.0                         NaN   \n",
       "3                                     505.0                         NaN   \n",
       "4                                    5065.0                         NaN   \n",
       "\n",
       "  Previous Event Internal Name Previous Event Team Name  \\\n",
       "0                          NaN                      NaN   \n",
       "1                          NaN                      NaN   \n",
       "2                          NaN                      NaN   \n",
       "3                          NaN                      NaN   \n",
       "4                          NaN                      NaN   \n",
       "\n",
       "   Previous Event Confirmed Gifts($) Previous Event Team Members  \\\n",
       "0                                0.0                           0   \n",
       "1                                0.0                           0   \n",
       "2                                0.0                           0   \n",
       "3                                0.0                           0   \n",
       "4                                0.0                           0   \n",
       "\n",
       "       Event Date  Fiscal Year  \n",
       "0  8/3/2013 15:57       2013.0  \n",
       "1  8/3/2013 15:57       2013.0  \n",
       "2  8/3/2013 15:57       2013.0  \n",
       "3  8/3/2013 15:57       2013.0  \n",
       "4  8/3/2013 15:57       2013.0  "
      ]
     },
     "execution_count": 3,
     "metadata": {},
     "output_type": "execute_result"
    }
   ],
   "source": [
    "df = pd.read_csv(\"2013-2017 Bike Teams.csv\")\n",
    "df.head()"
   ]
  },
  {
   "cell_type": "code",
   "execution_count": 4,
   "metadata": {
    "collapsed": true
   },
   "outputs": [],
   "source": [
    "np.random.seed(42)"
   ]
  },
  {
   "cell_type": "code",
   "execution_count": 5,
   "metadata": {},
   "outputs": [
    {
     "data": {
      "text/html": [
       "<div>\n",
       "<style scoped>\n",
       "    .dataframe tbody tr th:only-of-type {\n",
       "        vertical-align: middle;\n",
       "    }\n",
       "\n",
       "    .dataframe tbody tr th {\n",
       "        vertical-align: top;\n",
       "    }\n",
       "\n",
       "    .dataframe thead th {\n",
       "        text-align: right;\n",
       "    }\n",
       "</style>\n",
       "<table border=\"1\" class=\"dataframe\">\n",
       "  <thead>\n",
       "    <tr style=\"text-align: right;\">\n",
       "      <th></th>\n",
       "      <th>Event ID</th>\n",
       "      <th>Team ID</th>\n",
       "      <th>Number of Participants</th>\n",
       "      <th>Total Fees Paid</th>\n",
       "      <th>Total Online Gifts($)</th>\n",
       "      <th>Total Offline Confirmed Gifts($)</th>\n",
       "      <th>Total Offline Unconfirmed Gifts($)</th>\n",
       "      <th>Team Goal($)</th>\n",
       "      <th>Total Confirmed Gifts in Team History($)</th>\n",
       "      <th>Previous Event Fiscal Year</th>\n",
       "      <th>Previous Event Confirmed Gifts($)</th>\n",
       "      <th>Fiscal Year</th>\n",
       "    </tr>\n",
       "  </thead>\n",
       "  <tbody>\n",
       "    <tr>\n",
       "      <th>count</th>\n",
       "      <td>33132.000000</td>\n",
       "      <td>33132.000000</td>\n",
       "      <td>33132.000000</td>\n",
       "      <td>33132.000000</td>\n",
       "      <td>33132.000000</td>\n",
       "      <td>33132.000000</td>\n",
       "      <td>33132.000000</td>\n",
       "      <td>3.313200e+04</td>\n",
       "      <td>3.313000e+04</td>\n",
       "      <td>8500.000000</td>\n",
       "      <td>3.313200e+04</td>\n",
       "      <td>33130.000000</td>\n",
       "    </tr>\n",
       "    <tr>\n",
       "      <th>mean</th>\n",
       "      <td>24480.767777</td>\n",
       "      <td>411722.021248</td>\n",
       "      <td>10.703429</td>\n",
       "      <td>440.122936</td>\n",
       "      <td>6320.982646</td>\n",
       "      <td>2682.458385</td>\n",
       "      <td>101.641363</td>\n",
       "      <td>6.945165e+04</td>\n",
       "      <td>1.665778e+04</td>\n",
       "      <td>2014.977882</td>\n",
       "      <td>3.677016e+03</td>\n",
       "      <td>2014.938424</td>\n",
       "    </tr>\n",
       "    <tr>\n",
       "      <th>std</th>\n",
       "      <td>3081.189125</td>\n",
       "      <td>67696.166584</td>\n",
       "      <td>21.694745</td>\n",
       "      <td>1512.024337</td>\n",
       "      <td>19529.447014</td>\n",
       "      <td>10539.768813</td>\n",
       "      <td>792.613367</td>\n",
       "      <td>7.769344e+06</td>\n",
       "      <td>6.292724e+04</td>\n",
       "      <td>1.220864</td>\n",
       "      <td>2.087463e+04</td>\n",
       "      <td>1.419012</td>\n",
       "    </tr>\n",
       "    <tr>\n",
       "      <th>min</th>\n",
       "      <td>17966.000000</td>\n",
       "      <td>266344.000000</td>\n",
       "      <td>0.000000</td>\n",
       "      <td>0.000000</td>\n",
       "      <td>0.000000</td>\n",
       "      <td>0.000000</td>\n",
       "      <td>0.000000</td>\n",
       "      <td>0.000000e+00</td>\n",
       "      <td>0.000000e+00</td>\n",
       "      <td>2011.000000</td>\n",
       "      <td>0.000000e+00</td>\n",
       "      <td>2013.000000</td>\n",
       "    </tr>\n",
       "    <tr>\n",
       "      <th>25%</th>\n",
       "      <td>22247.000000</td>\n",
       "      <td>353140.500000</td>\n",
       "      <td>2.000000</td>\n",
       "      <td>55.000000</td>\n",
       "      <td>405.000000</td>\n",
       "      <td>0.000000</td>\n",
       "      <td>0.000000</td>\n",
       "      <td>0.000000e+00</td>\n",
       "      <td>8.850000e+02</td>\n",
       "      <td>2015.000000</td>\n",
       "      <td>0.000000e+00</td>\n",
       "      <td>2014.000000</td>\n",
       "    </tr>\n",
       "    <tr>\n",
       "      <th>50%</th>\n",
       "      <td>25096.000000</td>\n",
       "      <td>405873.500000</td>\n",
       "      <td>5.000000</td>\n",
       "      <td>140.000000</td>\n",
       "      <td>1600.000000</td>\n",
       "      <td>350.000000</td>\n",
       "      <td>0.000000</td>\n",
       "      <td>2.000000e+03</td>\n",
       "      <td>3.066000e+03</td>\n",
       "      <td>2015.000000</td>\n",
       "      <td>0.000000e+00</td>\n",
       "      <td>2015.000000</td>\n",
       "    </tr>\n",
       "    <tr>\n",
       "      <th>75%</th>\n",
       "      <td>27091.000000</td>\n",
       "      <td>466838.250000</td>\n",
       "      <td>10.000000</td>\n",
       "      <td>340.000000</td>\n",
       "      <td>4920.962500</td>\n",
       "      <td>1571.000000</td>\n",
       "      <td>0.000000</td>\n",
       "      <td>5.000000e+03</td>\n",
       "      <td>1.066500e+04</td>\n",
       "      <td>2016.000000</td>\n",
       "      <td>0.000000e+00</td>\n",
       "      <td>2016.000000</td>\n",
       "    </tr>\n",
       "    <tr>\n",
       "      <th>max</th>\n",
       "      <td>29050.000000</td>\n",
       "      <td>538680.000000</td>\n",
       "      <td>725.000000</td>\n",
       "      <td>71200.000000</td>\n",
       "      <td>751129.190000</td>\n",
       "      <td>498352.720000</td>\n",
       "      <td>39638.000000</td>\n",
       "      <td>1.000000e+09</td>\n",
       "      <td>2.650325e+06</td>\n",
       "      <td>2016.000000</td>\n",
       "      <td>1.249482e+06</td>\n",
       "      <td>2018.000000</td>\n",
       "    </tr>\n",
       "  </tbody>\n",
       "</table>\n",
       "</div>"
      ],
      "text/plain": [
       "           Event ID        Team ID  Number of Participants  Total Fees Paid  \\\n",
       "count  33132.000000   33132.000000            33132.000000     33132.000000   \n",
       "mean   24480.767777  411722.021248               10.703429       440.122936   \n",
       "std     3081.189125   67696.166584               21.694745      1512.024337   \n",
       "min    17966.000000  266344.000000                0.000000         0.000000   \n",
       "25%    22247.000000  353140.500000                2.000000        55.000000   \n",
       "50%    25096.000000  405873.500000                5.000000       140.000000   \n",
       "75%    27091.000000  466838.250000               10.000000       340.000000   \n",
       "max    29050.000000  538680.000000              725.000000     71200.000000   \n",
       "\n",
       "       Total Online Gifts($)  Total Offline Confirmed Gifts($)  \\\n",
       "count           33132.000000                      33132.000000   \n",
       "mean             6320.982646                       2682.458385   \n",
       "std             19529.447014                      10539.768813   \n",
       "min                 0.000000                          0.000000   \n",
       "25%               405.000000                          0.000000   \n",
       "50%              1600.000000                        350.000000   \n",
       "75%              4920.962500                       1571.000000   \n",
       "max            751129.190000                     498352.720000   \n",
       "\n",
       "       Total Offline Unconfirmed Gifts($)  Team Goal($)  \\\n",
       "count                        33132.000000  3.313200e+04   \n",
       "mean                           101.641363  6.945165e+04   \n",
       "std                            792.613367  7.769344e+06   \n",
       "min                              0.000000  0.000000e+00   \n",
       "25%                              0.000000  0.000000e+00   \n",
       "50%                              0.000000  2.000000e+03   \n",
       "75%                              0.000000  5.000000e+03   \n",
       "max                          39638.000000  1.000000e+09   \n",
       "\n",
       "       Total Confirmed Gifts in Team History($)  Previous Event Fiscal Year  \\\n",
       "count                              3.313000e+04                 8500.000000   \n",
       "mean                               1.665778e+04                 2014.977882   \n",
       "std                                6.292724e+04                    1.220864   \n",
       "min                                0.000000e+00                 2011.000000   \n",
       "25%                                8.850000e+02                 2015.000000   \n",
       "50%                                3.066000e+03                 2015.000000   \n",
       "75%                                1.066500e+04                 2016.000000   \n",
       "max                                2.650325e+06                 2016.000000   \n",
       "\n",
       "       Previous Event Confirmed Gifts($)   Fiscal Year  \n",
       "count                       3.313200e+04  33130.000000  \n",
       "mean                        3.677016e+03   2014.938424  \n",
       "std                         2.087463e+04      1.419012  \n",
       "min                         0.000000e+00   2013.000000  \n",
       "25%                         0.000000e+00   2014.000000  \n",
       "50%                         0.000000e+00   2015.000000  \n",
       "75%                         0.000000e+00   2016.000000  \n",
       "max                         1.249482e+06   2018.000000  "
      ]
     },
     "execution_count": 5,
     "metadata": {},
     "output_type": "execute_result"
    }
   ],
   "source": [
    "df.describe()"
   ]
  },
  {
   "cell_type": "code",
   "execution_count": 6,
   "metadata": {},
   "outputs": [
    {
     "name": "stdout",
     "output_type": "stream",
     "text": [
      "<class 'pandas.core.frame.DataFrame'>\n",
      "RangeIndex: 33132 entries, 0 to 33131\n",
      "Data columns (total 26 columns):\n",
      "Event Type                                  33132 non-null object\n",
      "Internal Event Name                         33132 non-null object\n",
      "Event ID                                    33132 non-null int64\n",
      "Team ID                                     33132 non-null int64\n",
      "Team Name                                   33131 non-null object\n",
      "Team Creation Date                          33132 non-null object\n",
      "Team Captain Contact ID                     32580 non-null object\n",
      "Captain Email Domain                        32434 non-null object\n",
      "Team Captain Accept Email                   32580 non-null object\n",
      "Team Division                               30469 non-null object\n",
      "Company                                     9967 non-null object\n",
      "Number of Participants                      33132 non-null int64\n",
      "Total Fees Paid                             33132 non-null float64\n",
      "Team Total Confirmed ($)                    33132 non-null object\n",
      "Total Online Gifts($)                       33132 non-null float64\n",
      "Total Offline Confirmed Gifts($)            33132 non-null float64\n",
      "Total Offline Unconfirmed Gifts($)          33132 non-null float64\n",
      "Team Goal($)                                33132 non-null float64\n",
      "Total Confirmed Gifts in Team History($)    33130 non-null float64\n",
      "Previous Event Fiscal Year                  8500 non-null float64\n",
      "Previous Event Internal Name                8500 non-null object\n",
      "Previous Event Team Name                    8502 non-null object\n",
      "Previous Event Confirmed Gifts($)           33132 non-null float64\n",
      "Previous Event Team Members                 33132 non-null object\n",
      "Event Date                                  33132 non-null object\n",
      "Fiscal Year                                 33130 non-null float64\n",
      "dtypes: float64(9), int64(3), object(14)\n",
      "memory usage: 6.6+ MB\n"
     ]
    }
   ],
   "source": [
    "df.info()"
   ]
  },
  {
   "cell_type": "markdown",
   "metadata": {},
   "source": [
    "# Data Cleaning"
   ]
  },
  {
   "cell_type": "markdown",
   "metadata": {},
   "source": [
    "Replace space in column names with \"_\" and removing ($)"
   ]
  },
  {
   "cell_type": "code",
   "execution_count": 7,
   "metadata": {
    "collapsed": true
   },
   "outputs": [],
   "source": [
    "df.columns = df.columns.str.replace(\" \",\"_\")"
   ]
  },
  {
   "cell_type": "code",
   "execution_count": 8,
   "metadata": {
    "collapsed": true
   },
   "outputs": [],
   "source": [
    "df = df.rename(columns={'Team_Total_Confirmed_($)': 'Team_Total_Confirmed', \n",
    "                        'Total_Online_Gifts($)': 'Total_Online_Gifts',\n",
    "                        'Total_Offline_Confirmed_Gifts($)': 'Total_Offline_Confirmed_Gifts', \n",
    "                        'Total_Offline_Unconfirmed_Gifts($)': 'Total_Offline_Unconfirmed_Gifts',\n",
    "                        'Team_Goal($)': 'Team_Goal', \n",
    "                        'Total_Confirmed_Gifts_in_Team_History($)': 'Total_Confirmed_Gifts_in_Team_History',\n",
    "                        'Previous_Event_Confirmed_Gifts($)': 'Previous_Event_Confirmed_Gifts'\n",
    "                       })"
   ]
  },
  {
   "cell_type": "markdown",
   "metadata": {},
   "source": [
    "Convert column 'Team_Total_Confirmed' into float. Deleted a row with invalid cell values"
   ]
  },
  {
   "cell_type": "code",
   "execution_count": 9,
   "metadata": {
    "collapsed": true
   },
   "outputs": [],
   "source": [
    "df.loc[df['Team_Total_Confirmed'] == '520(450']\n",
    "df=df.drop(df.index[29752])\n",
    "df = df.astype({'Team_Total_Confirmed': 'float'})"
   ]
  },
  {
   "cell_type": "markdown",
   "metadata": {},
   "source": [
    "Dropped rows with ID values.There are mutliple identifiers for event and teams, dropping all but one for each. And also irrevelant demograhic columns, phone, email, contact-id etc have been dropped."
   ]
  },
  {
   "cell_type": "code",
   "execution_count": 10,
   "metadata": {
    "collapsed": true
   },
   "outputs": [],
   "source": [
    "df_new = df.drop(['Event_Type','Internal_Event_Name','Event_ID','Team_Name','Team_Creation_Date','Team_Captain_Contact_ID','Captain_Email_Domain','Previous_Event_Internal_Name','Previous_Event_Team_Name','Event_Date'],axis=1)"
   ]
  },
  {
   "cell_type": "code",
   "execution_count": 11,
   "metadata": {},
   "outputs": [
    {
     "data": {
      "text/html": [
       "<div>\n",
       "<style scoped>\n",
       "    .dataframe tbody tr th:only-of-type {\n",
       "        vertical-align: middle;\n",
       "    }\n",
       "\n",
       "    .dataframe tbody tr th {\n",
       "        vertical-align: top;\n",
       "    }\n",
       "\n",
       "    .dataframe thead th {\n",
       "        text-align: right;\n",
       "    }\n",
       "</style>\n",
       "<table border=\"1\" class=\"dataframe\">\n",
       "  <thead>\n",
       "    <tr style=\"text-align: right;\">\n",
       "      <th></th>\n",
       "      <th>Team_ID</th>\n",
       "      <th>Team_Captain_Accept_Email</th>\n",
       "      <th>Team_Division</th>\n",
       "      <th>Company</th>\n",
       "      <th>Number_of_Participants</th>\n",
       "      <th>Total_Fees_Paid</th>\n",
       "      <th>Team_Total_Confirmed</th>\n",
       "      <th>Total_Online_Gifts</th>\n",
       "      <th>Total_Offline_Confirmed_Gifts</th>\n",
       "      <th>Total_Offline_Unconfirmed_Gifts</th>\n",
       "      <th>Team_Goal</th>\n",
       "      <th>Total_Confirmed_Gifts_in_Team_History</th>\n",
       "      <th>Previous_Event_Fiscal_Year</th>\n",
       "      <th>Previous_Event_Confirmed_Gifts</th>\n",
       "      <th>Previous_Event_Team_Members</th>\n",
       "      <th>Fiscal_Year</th>\n",
       "    </tr>\n",
       "  </thead>\n",
       "  <tbody>\n",
       "    <tr>\n",
       "      <th>0</th>\n",
       "      <td>320012</td>\n",
       "      <td>TRUE</td>\n",
       "      <td>Ohana</td>\n",
       "      <td>Akamai Hawaii</td>\n",
       "      <td>8</td>\n",
       "      <td>60.0</td>\n",
       "      <td>4551.0</td>\n",
       "      <td>3256.0</td>\n",
       "      <td>1295.0</td>\n",
       "      <td>575.0</td>\n",
       "      <td>1500.0</td>\n",
       "      <td>4551.0</td>\n",
       "      <td>NaN</td>\n",
       "      <td>0.0</td>\n",
       "      <td>0</td>\n",
       "      <td>2013.0</td>\n",
       "    </tr>\n",
       "    <tr>\n",
       "      <th>1</th>\n",
       "      <td>344048</td>\n",
       "      <td>TRUE</td>\n",
       "      <td>Ohana</td>\n",
       "      <td>NaN</td>\n",
       "      <td>3</td>\n",
       "      <td>0.0</td>\n",
       "      <td>0.0</td>\n",
       "      <td>0.0</td>\n",
       "      <td>0.0</td>\n",
       "      <td>0.0</td>\n",
       "      <td>0.0</td>\n",
       "      <td>0.0</td>\n",
       "      <td>NaN</td>\n",
       "      <td>0.0</td>\n",
       "      <td>0</td>\n",
       "      <td>2013.0</td>\n",
       "    </tr>\n",
       "    <tr>\n",
       "      <th>2</th>\n",
       "      <td>351448</td>\n",
       "      <td>TRUE</td>\n",
       "      <td>Corporate</td>\n",
       "      <td>NaN</td>\n",
       "      <td>1</td>\n",
       "      <td>30.0</td>\n",
       "      <td>35.0</td>\n",
       "      <td>35.0</td>\n",
       "      <td>0.0</td>\n",
       "      <td>0.0</td>\n",
       "      <td>0.0</td>\n",
       "      <td>35.0</td>\n",
       "      <td>NaN</td>\n",
       "      <td>0.0</td>\n",
       "      <td>0</td>\n",
       "      <td>2013.0</td>\n",
       "    </tr>\n",
       "    <tr>\n",
       "      <th>3</th>\n",
       "      <td>350109</td>\n",
       "      <td>TRUE</td>\n",
       "      <td>Ohana</td>\n",
       "      <td>Club Rehab</td>\n",
       "      <td>1</td>\n",
       "      <td>30.0</td>\n",
       "      <td>505.0</td>\n",
       "      <td>355.0</td>\n",
       "      <td>150.0</td>\n",
       "      <td>0.0</td>\n",
       "      <td>500.0</td>\n",
       "      <td>505.0</td>\n",
       "      <td>NaN</td>\n",
       "      <td>0.0</td>\n",
       "      <td>0</td>\n",
       "      <td>2013.0</td>\n",
       "    </tr>\n",
       "    <tr>\n",
       "      <th>4</th>\n",
       "      <td>349891</td>\n",
       "      <td>TRUE</td>\n",
       "      <td>Ohana</td>\n",
       "      <td>NaN</td>\n",
       "      <td>8</td>\n",
       "      <td>240.0</td>\n",
       "      <td>5065.0</td>\n",
       "      <td>3810.0</td>\n",
       "      <td>1255.0</td>\n",
       "      <td>460.0</td>\n",
       "      <td>2500.0</td>\n",
       "      <td>5065.0</td>\n",
       "      <td>NaN</td>\n",
       "      <td>0.0</td>\n",
       "      <td>0</td>\n",
       "      <td>2013.0</td>\n",
       "    </tr>\n",
       "  </tbody>\n",
       "</table>\n",
       "</div>"
      ],
      "text/plain": [
       "   Team_ID Team_Captain_Accept_Email Team_Division        Company  \\\n",
       "0   320012                      TRUE        Ohana   Akamai Hawaii   \n",
       "1   344048                      TRUE        Ohana             NaN   \n",
       "2   351448                      TRUE     Corporate            NaN   \n",
       "3   350109                      TRUE        Ohana      Club Rehab   \n",
       "4   349891                      TRUE        Ohana             NaN   \n",
       "\n",
       "   Number_of_Participants  Total_Fees_Paid  Team_Total_Confirmed  \\\n",
       "0                       8             60.0                4551.0   \n",
       "1                       3              0.0                   0.0   \n",
       "2                       1             30.0                  35.0   \n",
       "3                       1             30.0                 505.0   \n",
       "4                       8            240.0                5065.0   \n",
       "\n",
       "   Total_Online_Gifts  Total_Offline_Confirmed_Gifts  \\\n",
       "0              3256.0                         1295.0   \n",
       "1                 0.0                            0.0   \n",
       "2                35.0                            0.0   \n",
       "3               355.0                          150.0   \n",
       "4              3810.0                         1255.0   \n",
       "\n",
       "   Total_Offline_Unconfirmed_Gifts  Team_Goal  \\\n",
       "0                            575.0     1500.0   \n",
       "1                              0.0        0.0   \n",
       "2                              0.0        0.0   \n",
       "3                              0.0      500.0   \n",
       "4                            460.0     2500.0   \n",
       "\n",
       "   Total_Confirmed_Gifts_in_Team_History  Previous_Event_Fiscal_Year  \\\n",
       "0                                 4551.0                         NaN   \n",
       "1                                    0.0                         NaN   \n",
       "2                                   35.0                         NaN   \n",
       "3                                  505.0                         NaN   \n",
       "4                                 5065.0                         NaN   \n",
       "\n",
       "   Previous_Event_Confirmed_Gifts Previous_Event_Team_Members  Fiscal_Year  \n",
       "0                             0.0                           0       2013.0  \n",
       "1                             0.0                           0       2013.0  \n",
       "2                             0.0                           0       2013.0  \n",
       "3                             0.0                           0       2013.0  \n",
       "4                             0.0                           0       2013.0  "
      ]
     },
     "execution_count": 11,
     "metadata": {},
     "output_type": "execute_result"
    }
   ],
   "source": [
    "df_new.head()"
   ]
  },
  {
   "cell_type": "code",
   "execution_count": 12,
   "metadata": {},
   "outputs": [
    {
     "data": {
      "text/plain": [
       "Team_ID                                      0\n",
       "Team_Captain_Accept_Email                  552\n",
       "Team_Division                             2663\n",
       "Company                                  23164\n",
       "Number_of_Participants                       0\n",
       "Total_Fees_Paid                              0\n",
       "Team_Total_Confirmed                         0\n",
       "Total_Online_Gifts                           0\n",
       "Total_Offline_Confirmed_Gifts                0\n",
       "Total_Offline_Unconfirmed_Gifts              0\n",
       "Team_Goal                                    0\n",
       "Total_Confirmed_Gifts_in_Team_History        1\n",
       "Previous_Event_Fiscal_Year               24631\n",
       "Previous_Event_Confirmed_Gifts               0\n",
       "Previous_Event_Team_Members                  0\n",
       "Fiscal_Year                                  1\n",
       "dtype: int64"
      ]
     },
     "execution_count": 12,
     "metadata": {},
     "output_type": "execute_result"
    }
   ],
   "source": [
    "# Identify columns with null values\n",
    "df_new.isnull().sum()"
   ]
  },
  {
   "cell_type": "markdown",
   "metadata": {},
   "source": [
    "Convert company into values of 1(company name present) and 0(no company)\n"
   ]
  },
  {
   "cell_type": "code",
   "execution_count": 13,
   "metadata": {},
   "outputs": [
    {
     "data": {
      "text/plain": [
       "0    23164\n",
       "1     9967\n",
       "Name: Company, dtype: int64"
      ]
     },
     "execution_count": 13,
     "metadata": {},
     "output_type": "execute_result"
    }
   ],
   "source": [
    "df_new['Company'].loc[~df['Company'].isnull()] =1\n",
    "df_new['Company'].loc[df['Company'].isnull()] = 0\n",
    "df_new.Company.value_counts()"
   ]
  },
  {
   "cell_type": "code",
   "execution_count": 14,
   "metadata": {},
   "outputs": [
    {
     "data": {
      "text/plain": [
       "Team_ID                                  0\n",
       "Team_Captain_Accept_Email                0\n",
       "Team_Division                            0\n",
       "Company                                  0\n",
       "Number_of_Participants                   0\n",
       "Total_Fees_Paid                          0\n",
       "Team_Total_Confirmed                     0\n",
       "Total_Online_Gifts                       0\n",
       "Total_Offline_Confirmed_Gifts            0\n",
       "Total_Offline_Unconfirmed_Gifts          0\n",
       "Team_Goal                                0\n",
       "Total_Confirmed_Gifts_in_Team_History    0\n",
       "Previous_Event_Fiscal_Year               0\n",
       "Previous_Event_Confirmed_Gifts           0\n",
       "Previous_Event_Team_Members              0\n",
       "Fiscal_Year                              0\n",
       "dtype: int64"
      ]
     },
     "execution_count": 14,
     "metadata": {},
     "output_type": "execute_result"
    }
   ],
   "source": [
    "# Replacing/ deleting Null values\n",
    "df_new['Team_Captain_Accept_Email'].fillna(df_new['Team_Captain_Accept_Email'].mode() , inplace=True)\n",
    "df_new['Team_Division'].replace(np.NaN, 'Other', inplace=True)\n",
    "df_new['Previous_Event_Fiscal_Year'].replace(np.NaN, 0, inplace=True)\n",
    "df_new['Total_Confirmed_Gifts_in_Team_History'].replace(np.NaN, df_new.Team_Total_Confirmed , inplace=True)\n",
    "df_new.dropna(how='any', inplace=True)\n",
    "df_new.isnull().sum()"
   ]
  },
  {
   "cell_type": "code",
   "execution_count": 15,
   "metadata": {},
   "outputs": [
    {
     "data": {
      "text/plain": [
       "true     24522\n",
       "false     8056\n",
       "Name: Team_Captain_Accept_Email, dtype: int64"
      ]
     },
     "execution_count": 15,
     "metadata": {},
     "output_type": "execute_result"
    }
   ],
   "source": [
    "df_new['Team_Captain_Accept_Email']=df_new['Team_Captain_Accept_Email'].astype(str)\n",
    "df_new['Team_Captain_Accept_Email']=df_new['Team_Captain_Accept_Email'].str.lower()\n",
    "df_new['Team_Captain_Accept_Email'].value_counts()"
   ]
  },
  {
   "cell_type": "markdown",
   "metadata": {},
   "source": [
    "Creating three categories for Division "
   ]
  },
  {
   "cell_type": "code",
   "execution_count": 16,
   "metadata": {},
   "outputs": [
    {
     "data": {
      "text/plain": [
       "Friends and Family    21372\n",
       "Corporate              7566\n",
       "Other                  3640\n",
       "Name: Team_Division, dtype: int64"
      ]
     },
     "execution_count": 16,
     "metadata": {},
     "output_type": "execute_result"
    }
   ],
   "source": [
    "df_new.Team_Division.replace('Family and Friends','Friends and Family',inplace=True)\n",
    "df_new.Team_Division.replace('Friend and Family','Friends and Family',inplace=True)\n",
    "df_new.Team_Division.replace('Family/Friends','Friends and Family',inplace=True)\n",
    "df_new.Team_Division.replace('Frien`s and Family','Friends and Family',inplace=True)\n",
    "df_new.Team_Division.replace('Organization (Clubs, Civic Groups, etc.)','Other',inplace=True)\n",
    "df_new.Team_Division.replace('Organization (Clubs; Civic Groups; Place of Worship; etc.)','Other',inplace=True)\n",
    "df_new.Team_Division.replace('Organization','Other',inplace=True)\n",
    "df_new.Team_Division.replace('Place of worship','Other',inplace=True)\n",
    "df_new.Team_Division.replace('Club/Organization','Other',inplace=True)\n",
    "df_new.Team_Division.replace('Civic Team','Other',inplace=True)\n",
    "df_new.Team_Division.replace('Bike Club','Other',inplace=True)\n",
    "df_new.Team_Division.replace('Religious','Other',inplace=True)\n",
    "df_new.Team_Division.replace('Place of Worship','Other',inplace=True)\n",
    "df_new.Team_Division.replace('Organization (Clubs; Civic Groups; etc.)','Other',inplace=True)\n",
    "df_new.Team_Division.replace('School','Other',inplace=True)\n",
    "df_new.Team_Division.replace('Bike Shop','Other',inplace=True)\n",
    "df_new.Team_Division.replace('Ohana and Friends','Other',inplace=True)\n",
    "df_new.Team_Division.replace('Ohana ','Other',inplace=True)\n",
    "df_new.Team_Division.replace('Small Business','Other',inplace=True)\n",
    "df_new.Team_Division.replace('School ','Other',inplace=True)\n",
    "df_new.Team_Division.replace('Beer/Brewery','Other',inplace=True)\n",
    "df_new.Team_Division.replace('Volunteer Group','Other',inplace=True)\n",
    "df_new.Team_Division.replace('Open','Other',inplace=True)\n",
    "df_new.Team_Division.replace('Open Team','Other',inplace=True)\n",
    "df_new.Team_Division.replace('Association','Other',inplace=True)\n",
    "df_new.Team_Division.replace('Bike Shops','Other',inplace=True)\n",
    "df_new.Team_Division.replace('Corporation','Corporate',inplace=True)\n",
    "df_new.Team_Division.value_counts()"
   ]
  },
  {
   "cell_type": "code",
   "execution_count": 17,
   "metadata": {},
   "outputs": [
    {
     "data": {
      "text/html": [
       "<div>\n",
       "<style scoped>\n",
       "    .dataframe tbody tr th:only-of-type {\n",
       "        vertical-align: middle;\n",
       "    }\n",
       "\n",
       "    .dataframe tbody tr th {\n",
       "        vertical-align: top;\n",
       "    }\n",
       "\n",
       "    .dataframe thead th {\n",
       "        text-align: right;\n",
       "    }\n",
       "</style>\n",
       "<table border=\"1\" class=\"dataframe\">\n",
       "  <thead>\n",
       "    <tr style=\"text-align: right;\">\n",
       "      <th></th>\n",
       "      <th>Team_ID</th>\n",
       "      <th>Team_Captain_Accept_Email</th>\n",
       "      <th>Team_Division</th>\n",
       "      <th>Company</th>\n",
       "      <th>Number_of_Participants</th>\n",
       "      <th>Total_Fees_Paid</th>\n",
       "      <th>Team_Total_Confirmed</th>\n",
       "      <th>Total_Online_Gifts</th>\n",
       "      <th>Total_Offline_Confirmed_Gifts</th>\n",
       "      <th>Total_Offline_Unconfirmed_Gifts</th>\n",
       "      <th>Team_Goal</th>\n",
       "      <th>Total_Confirmed_Gifts_in_Team_History</th>\n",
       "      <th>Previous_Event_Fiscal_Year</th>\n",
       "      <th>Previous_Event_Confirmed_Gifts</th>\n",
       "      <th>Previous_Event_Team_Members</th>\n",
       "      <th>Fiscal_Year</th>\n",
       "    </tr>\n",
       "  </thead>\n",
       "  <tbody>\n",
       "    <tr>\n",
       "      <th>0</th>\n",
       "      <td>320012</td>\n",
       "      <td>true</td>\n",
       "      <td>Other</td>\n",
       "      <td>1</td>\n",
       "      <td>8</td>\n",
       "      <td>60.0</td>\n",
       "      <td>4551.0</td>\n",
       "      <td>3256.0</td>\n",
       "      <td>1295.0</td>\n",
       "      <td>575.0</td>\n",
       "      <td>1500.0</td>\n",
       "      <td>4551.0</td>\n",
       "      <td>0.0</td>\n",
       "      <td>0.0</td>\n",
       "      <td>0</td>\n",
       "      <td>2013.0</td>\n",
       "    </tr>\n",
       "    <tr>\n",
       "      <th>1</th>\n",
       "      <td>344048</td>\n",
       "      <td>true</td>\n",
       "      <td>Other</td>\n",
       "      <td>0</td>\n",
       "      <td>3</td>\n",
       "      <td>0.0</td>\n",
       "      <td>0.0</td>\n",
       "      <td>0.0</td>\n",
       "      <td>0.0</td>\n",
       "      <td>0.0</td>\n",
       "      <td>0.0</td>\n",
       "      <td>0.0</td>\n",
       "      <td>0.0</td>\n",
       "      <td>0.0</td>\n",
       "      <td>0</td>\n",
       "      <td>2013.0</td>\n",
       "    </tr>\n",
       "    <tr>\n",
       "      <th>2</th>\n",
       "      <td>351448</td>\n",
       "      <td>true</td>\n",
       "      <td>Corporate</td>\n",
       "      <td>0</td>\n",
       "      <td>1</td>\n",
       "      <td>30.0</td>\n",
       "      <td>35.0</td>\n",
       "      <td>35.0</td>\n",
       "      <td>0.0</td>\n",
       "      <td>0.0</td>\n",
       "      <td>0.0</td>\n",
       "      <td>35.0</td>\n",
       "      <td>0.0</td>\n",
       "      <td>0.0</td>\n",
       "      <td>0</td>\n",
       "      <td>2013.0</td>\n",
       "    </tr>\n",
       "    <tr>\n",
       "      <th>3</th>\n",
       "      <td>350109</td>\n",
       "      <td>true</td>\n",
       "      <td>Other</td>\n",
       "      <td>1</td>\n",
       "      <td>1</td>\n",
       "      <td>30.0</td>\n",
       "      <td>505.0</td>\n",
       "      <td>355.0</td>\n",
       "      <td>150.0</td>\n",
       "      <td>0.0</td>\n",
       "      <td>500.0</td>\n",
       "      <td>505.0</td>\n",
       "      <td>0.0</td>\n",
       "      <td>0.0</td>\n",
       "      <td>0</td>\n",
       "      <td>2013.0</td>\n",
       "    </tr>\n",
       "    <tr>\n",
       "      <th>4</th>\n",
       "      <td>349891</td>\n",
       "      <td>true</td>\n",
       "      <td>Other</td>\n",
       "      <td>0</td>\n",
       "      <td>8</td>\n",
       "      <td>240.0</td>\n",
       "      <td>5065.0</td>\n",
       "      <td>3810.0</td>\n",
       "      <td>1255.0</td>\n",
       "      <td>460.0</td>\n",
       "      <td>2500.0</td>\n",
       "      <td>5065.0</td>\n",
       "      <td>0.0</td>\n",
       "      <td>0.0</td>\n",
       "      <td>0</td>\n",
       "      <td>2013.0</td>\n",
       "    </tr>\n",
       "  </tbody>\n",
       "</table>\n",
       "</div>"
      ],
      "text/plain": [
       "   Team_ID Team_Captain_Accept_Email Team_Division  Company  \\\n",
       "0   320012                      true         Other        1   \n",
       "1   344048                      true         Other        0   \n",
       "2   351448                      true     Corporate        0   \n",
       "3   350109                      true         Other        1   \n",
       "4   349891                      true         Other        0   \n",
       "\n",
       "   Number_of_Participants  Total_Fees_Paid  Team_Total_Confirmed  \\\n",
       "0                       8             60.0                4551.0   \n",
       "1                       3              0.0                   0.0   \n",
       "2                       1             30.0                  35.0   \n",
       "3                       1             30.0                 505.0   \n",
       "4                       8            240.0                5065.0   \n",
       "\n",
       "   Total_Online_Gifts  Total_Offline_Confirmed_Gifts  \\\n",
       "0              3256.0                         1295.0   \n",
       "1                 0.0                            0.0   \n",
       "2                35.0                            0.0   \n",
       "3               355.0                          150.0   \n",
       "4              3810.0                         1255.0   \n",
       "\n",
       "   Total_Offline_Unconfirmed_Gifts  Team_Goal  \\\n",
       "0                            575.0     1500.0   \n",
       "1                              0.0        0.0   \n",
       "2                              0.0        0.0   \n",
       "3                              0.0      500.0   \n",
       "4                            460.0     2500.0   \n",
       "\n",
       "   Total_Confirmed_Gifts_in_Team_History  Previous_Event_Fiscal_Year  \\\n",
       "0                                 4551.0                         0.0   \n",
       "1                                    0.0                         0.0   \n",
       "2                                   35.0                         0.0   \n",
       "3                                  505.0                         0.0   \n",
       "4                                 5065.0                         0.0   \n",
       "\n",
       "   Previous_Event_Confirmed_Gifts Previous_Event_Team_Members  Fiscal_Year  \n",
       "0                             0.0                           0       2013.0  \n",
       "1                             0.0                           0       2013.0  \n",
       "2                             0.0                           0       2013.0  \n",
       "3                             0.0                           0       2013.0  \n",
       "4                             0.0                           0       2013.0  "
      ]
     },
     "execution_count": 17,
     "metadata": {},
     "output_type": "execute_result"
    }
   ],
   "source": [
    "df_new.head()"
   ]
  },
  {
   "cell_type": "code",
   "execution_count": 18,
   "metadata": {},
   "outputs": [
    {
     "data": {
      "text/plain": [
       "0.0    24630\n",
       "1.0     7948\n",
       "Name: Previous_Event_Fiscal_Year, dtype: int64"
      ]
     },
     "execution_count": 18,
     "metadata": {},
     "output_type": "execute_result"
    }
   ],
   "source": [
    "# Converting Previous_Event_Fiscal_Year into values of 1(participated in the previous year) and 0(did'nt participate inthe previous year)\n",
    "df_new['Previous_Event_Fiscal_Year'].loc[~df['Previous_Event_Fiscal_Year'].isnull()] =1\n",
    "df_new['Previous_Event_Fiscal_Year'].loc[df['Previous_Event_Fiscal_Year'].isnull()] = 0\n",
    "df_new.Previous_Event_Fiscal_Year.value_counts()"
   ]
  },
  {
   "cell_type": "markdown",
   "metadata": {},
   "source": [
    "Created a column called \"achvmnt\" - says whether the team has met it's goal or not - we will be suing this column as the output variable\n"
   ]
  },
  {
   "cell_type": "code",
   "execution_count": 19,
   "metadata": {},
   "outputs": [
    {
     "data": {
      "text/html": [
       "<div>\n",
       "<style scoped>\n",
       "    .dataframe tbody tr th:only-of-type {\n",
       "        vertical-align: middle;\n",
       "    }\n",
       "\n",
       "    .dataframe tbody tr th {\n",
       "        vertical-align: top;\n",
       "    }\n",
       "\n",
       "    .dataframe thead th {\n",
       "        text-align: right;\n",
       "    }\n",
       "</style>\n",
       "<table border=\"1\" class=\"dataframe\">\n",
       "  <thead>\n",
       "    <tr style=\"text-align: right;\">\n",
       "      <th></th>\n",
       "      <th>Team_ID</th>\n",
       "      <th>Team_Captain_Accept_Email</th>\n",
       "      <th>Team_Division</th>\n",
       "      <th>Company</th>\n",
       "      <th>Number_of_Participants</th>\n",
       "      <th>Total_Fees_Paid</th>\n",
       "      <th>Team_Total_Confirmed</th>\n",
       "      <th>Total_Online_Gifts</th>\n",
       "      <th>Total_Offline_Confirmed_Gifts</th>\n",
       "      <th>Total_Offline_Unconfirmed_Gifts</th>\n",
       "      <th>Team_Goal</th>\n",
       "      <th>Total_Confirmed_Gifts_in_Team_History</th>\n",
       "      <th>Previous_Event_Fiscal_Year</th>\n",
       "      <th>Previous_Event_Confirmed_Gifts</th>\n",
       "      <th>Previous_Event_Team_Members</th>\n",
       "      <th>Fiscal_Year</th>\n",
       "      <th>achvmnt</th>\n",
       "    </tr>\n",
       "  </thead>\n",
       "  <tbody>\n",
       "    <tr>\n",
       "      <th>0</th>\n",
       "      <td>320012</td>\n",
       "      <td>true</td>\n",
       "      <td>Other</td>\n",
       "      <td>1</td>\n",
       "      <td>8</td>\n",
       "      <td>60.0</td>\n",
       "      <td>4551.0</td>\n",
       "      <td>3256.0</td>\n",
       "      <td>1295.0</td>\n",
       "      <td>575.0</td>\n",
       "      <td>1500.0</td>\n",
       "      <td>4551.0</td>\n",
       "      <td>0.0</td>\n",
       "      <td>0.0</td>\n",
       "      <td>0</td>\n",
       "      <td>2013.0</td>\n",
       "      <td>3051.0</td>\n",
       "    </tr>\n",
       "    <tr>\n",
       "      <th>1</th>\n",
       "      <td>344048</td>\n",
       "      <td>true</td>\n",
       "      <td>Other</td>\n",
       "      <td>0</td>\n",
       "      <td>3</td>\n",
       "      <td>0.0</td>\n",
       "      <td>0.0</td>\n",
       "      <td>0.0</td>\n",
       "      <td>0.0</td>\n",
       "      <td>0.0</td>\n",
       "      <td>0.0</td>\n",
       "      <td>0.0</td>\n",
       "      <td>0.0</td>\n",
       "      <td>0.0</td>\n",
       "      <td>0</td>\n",
       "      <td>2013.0</td>\n",
       "      <td>0.0</td>\n",
       "    </tr>\n",
       "    <tr>\n",
       "      <th>2</th>\n",
       "      <td>351448</td>\n",
       "      <td>true</td>\n",
       "      <td>Corporate</td>\n",
       "      <td>0</td>\n",
       "      <td>1</td>\n",
       "      <td>30.0</td>\n",
       "      <td>35.0</td>\n",
       "      <td>35.0</td>\n",
       "      <td>0.0</td>\n",
       "      <td>0.0</td>\n",
       "      <td>0.0</td>\n",
       "      <td>35.0</td>\n",
       "      <td>0.0</td>\n",
       "      <td>0.0</td>\n",
       "      <td>0</td>\n",
       "      <td>2013.0</td>\n",
       "      <td>35.0</td>\n",
       "    </tr>\n",
       "    <tr>\n",
       "      <th>3</th>\n",
       "      <td>350109</td>\n",
       "      <td>true</td>\n",
       "      <td>Other</td>\n",
       "      <td>1</td>\n",
       "      <td>1</td>\n",
       "      <td>30.0</td>\n",
       "      <td>505.0</td>\n",
       "      <td>355.0</td>\n",
       "      <td>150.0</td>\n",
       "      <td>0.0</td>\n",
       "      <td>500.0</td>\n",
       "      <td>505.0</td>\n",
       "      <td>0.0</td>\n",
       "      <td>0.0</td>\n",
       "      <td>0</td>\n",
       "      <td>2013.0</td>\n",
       "      <td>5.0</td>\n",
       "    </tr>\n",
       "    <tr>\n",
       "      <th>4</th>\n",
       "      <td>349891</td>\n",
       "      <td>true</td>\n",
       "      <td>Other</td>\n",
       "      <td>0</td>\n",
       "      <td>8</td>\n",
       "      <td>240.0</td>\n",
       "      <td>5065.0</td>\n",
       "      <td>3810.0</td>\n",
       "      <td>1255.0</td>\n",
       "      <td>460.0</td>\n",
       "      <td>2500.0</td>\n",
       "      <td>5065.0</td>\n",
       "      <td>0.0</td>\n",
       "      <td>0.0</td>\n",
       "      <td>0</td>\n",
       "      <td>2013.0</td>\n",
       "      <td>2565.0</td>\n",
       "    </tr>\n",
       "  </tbody>\n",
       "</table>\n",
       "</div>"
      ],
      "text/plain": [
       "   Team_ID Team_Captain_Accept_Email Team_Division  Company  \\\n",
       "0   320012                      true         Other        1   \n",
       "1   344048                      true         Other        0   \n",
       "2   351448                      true     Corporate        0   \n",
       "3   350109                      true         Other        1   \n",
       "4   349891                      true         Other        0   \n",
       "\n",
       "   Number_of_Participants  Total_Fees_Paid  Team_Total_Confirmed  \\\n",
       "0                       8             60.0                4551.0   \n",
       "1                       3              0.0                   0.0   \n",
       "2                       1             30.0                  35.0   \n",
       "3                       1             30.0                 505.0   \n",
       "4                       8            240.0                5065.0   \n",
       "\n",
       "   Total_Online_Gifts  Total_Offline_Confirmed_Gifts  \\\n",
       "0              3256.0                         1295.0   \n",
       "1                 0.0                            0.0   \n",
       "2                35.0                            0.0   \n",
       "3               355.0                          150.0   \n",
       "4              3810.0                         1255.0   \n",
       "\n",
       "   Total_Offline_Unconfirmed_Gifts  Team_Goal  \\\n",
       "0                            575.0     1500.0   \n",
       "1                              0.0        0.0   \n",
       "2                              0.0        0.0   \n",
       "3                              0.0      500.0   \n",
       "4                            460.0     2500.0   \n",
       "\n",
       "   Total_Confirmed_Gifts_in_Team_History  Previous_Event_Fiscal_Year  \\\n",
       "0                                 4551.0                         0.0   \n",
       "1                                    0.0                         0.0   \n",
       "2                                   35.0                         0.0   \n",
       "3                                  505.0                         0.0   \n",
       "4                                 5065.0                         0.0   \n",
       "\n",
       "   Previous_Event_Confirmed_Gifts Previous_Event_Team_Members  Fiscal_Year  \\\n",
       "0                             0.0                           0       2013.0   \n",
       "1                             0.0                           0       2013.0   \n",
       "2                             0.0                           0       2013.0   \n",
       "3                             0.0                           0       2013.0   \n",
       "4                             0.0                           0       2013.0   \n",
       "\n",
       "   achvmnt  \n",
       "0   3051.0  \n",
       "1      0.0  \n",
       "2     35.0  \n",
       "3      5.0  \n",
       "4   2565.0  "
      ]
     },
     "execution_count": 19,
     "metadata": {},
     "output_type": "execute_result"
    }
   ],
   "source": [
    "df_new['achvmnt']=df_new['Team_Total_Confirmed']-df_new['Team_Goal']\n",
    "df_new.head()"
   ]
  },
  {
   "cell_type": "code",
   "execution_count": 20,
   "metadata": {
    "collapsed": true
   },
   "outputs": [],
   "source": [
    "df_new = df_new.astype({'achvmnt': 'float'})\n",
    "# Assigning Value 1 if achvmnt >= 0, else 0\n",
    "df_new['achvmnt'] = df_new['achvmnt'].apply(lambda x: 1 if 0 <=  x else 0)"
   ]
  },
  {
   "cell_type": "code",
   "execution_count": 21,
   "metadata": {},
   "outputs": [
    {
     "data": {
      "text/html": [
       "<div>\n",
       "<style scoped>\n",
       "    .dataframe tbody tr th:only-of-type {\n",
       "        vertical-align: middle;\n",
       "    }\n",
       "\n",
       "    .dataframe tbody tr th {\n",
       "        vertical-align: top;\n",
       "    }\n",
       "\n",
       "    .dataframe thead th {\n",
       "        text-align: right;\n",
       "    }\n",
       "</style>\n",
       "<table border=\"1\" class=\"dataframe\">\n",
       "  <thead>\n",
       "    <tr style=\"text-align: right;\">\n",
       "      <th></th>\n",
       "      <th>Team_ID</th>\n",
       "      <th>Team_Captain_Accept_Email</th>\n",
       "      <th>Team_Division</th>\n",
       "      <th>Company</th>\n",
       "      <th>Number_of_Participants</th>\n",
       "      <th>Total_Fees_Paid</th>\n",
       "      <th>Team_Total_Confirmed</th>\n",
       "      <th>Total_Online_Gifts</th>\n",
       "      <th>Total_Offline_Confirmed_Gifts</th>\n",
       "      <th>Total_Offline_Unconfirmed_Gifts</th>\n",
       "      <th>Team_Goal</th>\n",
       "      <th>Total_Confirmed_Gifts_in_Team_History</th>\n",
       "      <th>Previous_Event_Fiscal_Year</th>\n",
       "      <th>Previous_Event_Confirmed_Gifts</th>\n",
       "      <th>Previous_Event_Team_Members</th>\n",
       "      <th>Fiscal_Year</th>\n",
       "      <th>achvmnt</th>\n",
       "    </tr>\n",
       "  </thead>\n",
       "  <tbody>\n",
       "    <tr>\n",
       "      <th>0</th>\n",
       "      <td>320012</td>\n",
       "      <td>true</td>\n",
       "      <td>Other</td>\n",
       "      <td>1</td>\n",
       "      <td>8</td>\n",
       "      <td>60.0</td>\n",
       "      <td>4551.0</td>\n",
       "      <td>3256.0</td>\n",
       "      <td>1295.0</td>\n",
       "      <td>575.0</td>\n",
       "      <td>1500.0</td>\n",
       "      <td>4551.0</td>\n",
       "      <td>0.0</td>\n",
       "      <td>0.0</td>\n",
       "      <td>0</td>\n",
       "      <td>2013.0</td>\n",
       "      <td>1</td>\n",
       "    </tr>\n",
       "    <tr>\n",
       "      <th>1</th>\n",
       "      <td>344048</td>\n",
       "      <td>true</td>\n",
       "      <td>Other</td>\n",
       "      <td>0</td>\n",
       "      <td>3</td>\n",
       "      <td>0.0</td>\n",
       "      <td>0.0</td>\n",
       "      <td>0.0</td>\n",
       "      <td>0.0</td>\n",
       "      <td>0.0</td>\n",
       "      <td>0.0</td>\n",
       "      <td>0.0</td>\n",
       "      <td>0.0</td>\n",
       "      <td>0.0</td>\n",
       "      <td>0</td>\n",
       "      <td>2013.0</td>\n",
       "      <td>1</td>\n",
       "    </tr>\n",
       "    <tr>\n",
       "      <th>2</th>\n",
       "      <td>351448</td>\n",
       "      <td>true</td>\n",
       "      <td>Corporate</td>\n",
       "      <td>0</td>\n",
       "      <td>1</td>\n",
       "      <td>30.0</td>\n",
       "      <td>35.0</td>\n",
       "      <td>35.0</td>\n",
       "      <td>0.0</td>\n",
       "      <td>0.0</td>\n",
       "      <td>0.0</td>\n",
       "      <td>35.0</td>\n",
       "      <td>0.0</td>\n",
       "      <td>0.0</td>\n",
       "      <td>0</td>\n",
       "      <td>2013.0</td>\n",
       "      <td>1</td>\n",
       "    </tr>\n",
       "    <tr>\n",
       "      <th>3</th>\n",
       "      <td>350109</td>\n",
       "      <td>true</td>\n",
       "      <td>Other</td>\n",
       "      <td>1</td>\n",
       "      <td>1</td>\n",
       "      <td>30.0</td>\n",
       "      <td>505.0</td>\n",
       "      <td>355.0</td>\n",
       "      <td>150.0</td>\n",
       "      <td>0.0</td>\n",
       "      <td>500.0</td>\n",
       "      <td>505.0</td>\n",
       "      <td>0.0</td>\n",
       "      <td>0.0</td>\n",
       "      <td>0</td>\n",
       "      <td>2013.0</td>\n",
       "      <td>1</td>\n",
       "    </tr>\n",
       "    <tr>\n",
       "      <th>4</th>\n",
       "      <td>349891</td>\n",
       "      <td>true</td>\n",
       "      <td>Other</td>\n",
       "      <td>0</td>\n",
       "      <td>8</td>\n",
       "      <td>240.0</td>\n",
       "      <td>5065.0</td>\n",
       "      <td>3810.0</td>\n",
       "      <td>1255.0</td>\n",
       "      <td>460.0</td>\n",
       "      <td>2500.0</td>\n",
       "      <td>5065.0</td>\n",
       "      <td>0.0</td>\n",
       "      <td>0.0</td>\n",
       "      <td>0</td>\n",
       "      <td>2013.0</td>\n",
       "      <td>1</td>\n",
       "    </tr>\n",
       "  </tbody>\n",
       "</table>\n",
       "</div>"
      ],
      "text/plain": [
       "   Team_ID Team_Captain_Accept_Email Team_Division  Company  \\\n",
       "0   320012                      true         Other        1   \n",
       "1   344048                      true         Other        0   \n",
       "2   351448                      true     Corporate        0   \n",
       "3   350109                      true         Other        1   \n",
       "4   349891                      true         Other        0   \n",
       "\n",
       "   Number_of_Participants  Total_Fees_Paid  Team_Total_Confirmed  \\\n",
       "0                       8             60.0                4551.0   \n",
       "1                       3              0.0                   0.0   \n",
       "2                       1             30.0                  35.0   \n",
       "3                       1             30.0                 505.0   \n",
       "4                       8            240.0                5065.0   \n",
       "\n",
       "   Total_Online_Gifts  Total_Offline_Confirmed_Gifts  \\\n",
       "0              3256.0                         1295.0   \n",
       "1                 0.0                            0.0   \n",
       "2                35.0                            0.0   \n",
       "3               355.0                          150.0   \n",
       "4              3810.0                         1255.0   \n",
       "\n",
       "   Total_Offline_Unconfirmed_Gifts  Team_Goal  \\\n",
       "0                            575.0     1500.0   \n",
       "1                              0.0        0.0   \n",
       "2                              0.0        0.0   \n",
       "3                              0.0      500.0   \n",
       "4                            460.0     2500.0   \n",
       "\n",
       "   Total_Confirmed_Gifts_in_Team_History  Previous_Event_Fiscal_Year  \\\n",
       "0                                 4551.0                         0.0   \n",
       "1                                    0.0                         0.0   \n",
       "2                                   35.0                         0.0   \n",
       "3                                  505.0                         0.0   \n",
       "4                                 5065.0                         0.0   \n",
       "\n",
       "   Previous_Event_Confirmed_Gifts Previous_Event_Team_Members  Fiscal_Year  \\\n",
       "0                             0.0                           0       2013.0   \n",
       "1                             0.0                           0       2013.0   \n",
       "2                             0.0                           0       2013.0   \n",
       "3                             0.0                           0       2013.0   \n",
       "4                             0.0                           0       2013.0   \n",
       "\n",
       "   achvmnt  \n",
       "0        1  \n",
       "1        1  \n",
       "2        1  \n",
       "3        1  \n",
       "4        1  "
      ]
     },
     "execution_count": 21,
     "metadata": {},
     "output_type": "execute_result"
    }
   ],
   "source": [
    "df_new.head()"
   ]
  },
  {
   "cell_type": "markdown",
   "metadata": {
    "collapsed": true
   },
   "source": [
    "## Plotting the correlation matrix"
   ]
  },
  {
   "cell_type": "code",
   "execution_count": 22,
   "metadata": {},
   "outputs": [
    {
     "data": {
      "text/plain": [
       "<matplotlib.axes._subplots.AxesSubplot at 0x111f5f160>"
      ]
     },
     "execution_count": 22,
     "metadata": {},
     "output_type": "execute_result"
    },
    {
     "data": {
      "image/png": "[encoded data removed]",
      "text/plain": [
       "<matplotlib.figure.Figure at 0x10b701b00>"
      ]
     },
     "metadata": {},
     "output_type": "display_data"
    }
   ],
   "source": [
    "from string import ascii_letters\n",
    "import matplotlib.pyplot as plt\n",
    "sns.set(style=\"white\")\n",
    "\n",
    "# Compute the correlation matrix\n",
    "corr = df_new.corr()\n",
    "\n",
    "# Generate a mask for the upper triangle\n",
    "mask = np.zeros_like(corr, dtype=np.bool)\n",
    "mask[np.triu_indices_from(mask)] = True\n",
    "\n",
    "# Set up the matplotlib figure\n",
    "f, ax = plt.subplots(figsize=(11, 9))\n",
    "\n",
    "# Generate a custom diverging colormap\n",
    "cmap = sns.diverging_palette(220, 10, as_cmap=True)\n",
    "\n",
    "# Draw the heatmap with the mask and correct aspect ratio\n",
    "sns.heatmap(corr, mask=mask, cmap=cmap, vmax=.3, center=0,linewidths=.5, cbar_kws={\"shrink\": .5})"
   ]
  },
  {
   "cell_type": "markdown",
   "metadata": {},
   "source": [
    "Dropping highly correlated variables"
   ]
  },
  {
   "cell_type": "code",
   "execution_count": 23,
   "metadata": {},
   "outputs": [
    {
     "data": {
      "text/html": [
       "<div>\n",
       "<style scoped>\n",
       "    .dataframe tbody tr th:only-of-type {\n",
       "        vertical-align: middle;\n",
       "    }\n",
       "\n",
       "    .dataframe tbody tr th {\n",
       "        vertical-align: top;\n",
       "    }\n",
       "\n",
       "    .dataframe thead th {\n",
       "        text-align: right;\n",
       "    }\n",
       "</style>\n",
       "<table border=\"1\" class=\"dataframe\">\n",
       "  <thead>\n",
       "    <tr style=\"text-align: right;\">\n",
       "      <th></th>\n",
       "      <th>Team_Captain_Accept_Email</th>\n",
       "      <th>Team_Division</th>\n",
       "      <th>Company</th>\n",
       "      <th>Number_of_Participants</th>\n",
       "      <th>Previous_Event_Fiscal_Year</th>\n",
       "      <th>Previous_Event_Confirmed_Gifts</th>\n",
       "      <th>Previous_Event_Team_Members</th>\n",
       "      <th>Fiscal_Year</th>\n",
       "      <th>achvmnt</th>\n",
       "    </tr>\n",
       "  </thead>\n",
       "  <tbody>\n",
       "    <tr>\n",
       "      <th>0</th>\n",
       "      <td>true</td>\n",
       "      <td>Other</td>\n",
       "      <td>1</td>\n",
       "      <td>8</td>\n",
       "      <td>0.0</td>\n",
       "      <td>0.0</td>\n",
       "      <td>0</td>\n",
       "      <td>2013.0</td>\n",
       "      <td>1</td>\n",
       "    </tr>\n",
       "    <tr>\n",
       "      <th>1</th>\n",
       "      <td>true</td>\n",
       "      <td>Other</td>\n",
       "      <td>0</td>\n",
       "      <td>3</td>\n",
       "      <td>0.0</td>\n",
       "      <td>0.0</td>\n",
       "      <td>0</td>\n",
       "      <td>2013.0</td>\n",
       "      <td>1</td>\n",
       "    </tr>\n",
       "    <tr>\n",
       "      <th>2</th>\n",
       "      <td>true</td>\n",
       "      <td>Corporate</td>\n",
       "      <td>0</td>\n",
       "      <td>1</td>\n",
       "      <td>0.0</td>\n",
       "      <td>0.0</td>\n",
       "      <td>0</td>\n",
       "      <td>2013.0</td>\n",
       "      <td>1</td>\n",
       "    </tr>\n",
       "    <tr>\n",
       "      <th>3</th>\n",
       "      <td>true</td>\n",
       "      <td>Other</td>\n",
       "      <td>1</td>\n",
       "      <td>1</td>\n",
       "      <td>0.0</td>\n",
       "      <td>0.0</td>\n",
       "      <td>0</td>\n",
       "      <td>2013.0</td>\n",
       "      <td>1</td>\n",
       "    </tr>\n",
       "    <tr>\n",
       "      <th>4</th>\n",
       "      <td>true</td>\n",
       "      <td>Other</td>\n",
       "      <td>0</td>\n",
       "      <td>8</td>\n",
       "      <td>0.0</td>\n",
       "      <td>0.0</td>\n",
       "      <td>0</td>\n",
       "      <td>2013.0</td>\n",
       "      <td>1</td>\n",
       "    </tr>\n",
       "  </tbody>\n",
       "</table>\n",
       "</div>"
      ],
      "text/plain": [
       "  Team_Captain_Accept_Email Team_Division  Company  Number_of_Participants  \\\n",
       "0                      true         Other        1                       8   \n",
       "1                      true         Other        0                       3   \n",
       "2                      true     Corporate        0                       1   \n",
       "3                      true         Other        1                       1   \n",
       "4                      true         Other        0                       8   \n",
       "\n",
       "   Previous_Event_Fiscal_Year  Previous_Event_Confirmed_Gifts  \\\n",
       "0                         0.0                             0.0   \n",
       "1                         0.0                             0.0   \n",
       "2                         0.0                             0.0   \n",
       "3                         0.0                             0.0   \n",
       "4                         0.0                             0.0   \n",
       "\n",
       "  Previous_Event_Team_Members  Fiscal_Year  achvmnt  \n",
       "0                           0       2013.0        1  \n",
       "1                           0       2013.0        1  \n",
       "2                           0       2013.0        1  \n",
       "3                           0       2013.0        1  \n",
       "4                           0       2013.0        1  "
      ]
     },
     "execution_count": 23,
     "metadata": {},
     "output_type": "execute_result"
    }
   ],
   "source": [
    "df_new = df_new.drop(['Team_ID','Team_Goal','Total_Fees_Paid','Team_Total_Confirmed','Total_Online_Gifts','Total_Offline_Confirmed_Gifts','Total_Offline_Unconfirmed_Gifts','Total_Confirmed_Gifts_in_Team_History'],axis=1)\n",
    "df_new.head()"
   ]
  },
  {
   "cell_type": "code",
   "execution_count": 24,
   "metadata": {},
   "outputs": [
    {
     "data": {
      "text/html": [
       "<div>\n",
       "<style scoped>\n",
       "    .dataframe tbody tr th:only-of-type {\n",
       "        vertical-align: middle;\n",
       "    }\n",
       "\n",
       "    .dataframe tbody tr th {\n",
       "        vertical-align: top;\n",
       "    }\n",
       "\n",
       "    .dataframe thead th {\n",
       "        text-align: right;\n",
       "    }\n",
       "</style>\n",
       "<table border=\"1\" class=\"dataframe\">\n",
       "  <thead>\n",
       "    <tr style=\"text-align: right;\">\n",
       "      <th></th>\n",
       "      <th>Team_Captain_Accept_Email</th>\n",
       "      <th>Team_Division</th>\n",
       "      <th>Company</th>\n",
       "      <th>Number_of_Participants</th>\n",
       "      <th>Previous_Event_Fiscal_Year</th>\n",
       "      <th>Previous_Event_Confirmed_Gifts</th>\n",
       "      <th>Previous_Event_Team_Members</th>\n",
       "      <th>Fiscal_Year</th>\n",
       "      <th>achvmnt</th>\n",
       "    </tr>\n",
       "  </thead>\n",
       "  <tbody>\n",
       "    <tr>\n",
       "      <th>0</th>\n",
       "      <td>true</td>\n",
       "      <td>Other</td>\n",
       "      <td>1</td>\n",
       "      <td>8</td>\n",
       "      <td>0.0</td>\n",
       "      <td>0.0</td>\n",
       "      <td>0</td>\n",
       "      <td>2013.0</td>\n",
       "      <td>1</td>\n",
       "    </tr>\n",
       "    <tr>\n",
       "      <th>1</th>\n",
       "      <td>true</td>\n",
       "      <td>Other</td>\n",
       "      <td>0</td>\n",
       "      <td>3</td>\n",
       "      <td>0.0</td>\n",
       "      <td>0.0</td>\n",
       "      <td>0</td>\n",
       "      <td>2013.0</td>\n",
       "      <td>1</td>\n",
       "    </tr>\n",
       "    <tr>\n",
       "      <th>2</th>\n",
       "      <td>true</td>\n",
       "      <td>Corporate</td>\n",
       "      <td>0</td>\n",
       "      <td>1</td>\n",
       "      <td>0.0</td>\n",
       "      <td>0.0</td>\n",
       "      <td>0</td>\n",
       "      <td>2013.0</td>\n",
       "      <td>1</td>\n",
       "    </tr>\n",
       "    <tr>\n",
       "      <th>3</th>\n",
       "      <td>true</td>\n",
       "      <td>Other</td>\n",
       "      <td>1</td>\n",
       "      <td>1</td>\n",
       "      <td>0.0</td>\n",
       "      <td>0.0</td>\n",
       "      <td>0</td>\n",
       "      <td>2013.0</td>\n",
       "      <td>1</td>\n",
       "    </tr>\n",
       "    <tr>\n",
       "      <th>4</th>\n",
       "      <td>true</td>\n",
       "      <td>Other</td>\n",
       "      <td>0</td>\n",
       "      <td>8</td>\n",
       "      <td>0.0</td>\n",
       "      <td>0.0</td>\n",
       "      <td>0</td>\n",
       "      <td>2013.0</td>\n",
       "      <td>1</td>\n",
       "    </tr>\n",
       "  </tbody>\n",
       "</table>\n",
       "</div>"
      ],
      "text/plain": [
       "  Team_Captain_Accept_Email Team_Division Company  Number_of_Participants  \\\n",
       "0                      true         Other       1                       8   \n",
       "1                      true         Other       0                       3   \n",
       "2                      true     Corporate       0                       1   \n",
       "3                      true         Other       1                       1   \n",
       "4                      true         Other       0                       8   \n",
       "\n",
       "   Previous_Event_Fiscal_Year  Previous_Event_Confirmed_Gifts  \\\n",
       "0                         0.0                             0.0   \n",
       "1                         0.0                             0.0   \n",
       "2                         0.0                             0.0   \n",
       "3                         0.0                             0.0   \n",
       "4                         0.0                             0.0   \n",
       "\n",
       "  Previous_Event_Team_Members  Fiscal_Year  achvmnt  \n",
       "0                           0       2013.0        1  \n",
       "1                           0       2013.0        1  \n",
       "2                           0       2013.0        1  \n",
       "3                           0       2013.0        1  \n",
       "4                           0       2013.0        1  "
      ]
     },
     "execution_count": 24,
     "metadata": {},
     "output_type": "execute_result"
    }
   ],
   "source": [
    "df_new['Company']=(df_new['Company']).astype('category')\n",
    "df_new.head()"
   ]
  },
  {
   "cell_type": "code",
   "execution_count": null,
   "metadata": {
    "collapsed": true
   },
   "outputs": [],
   "source": []
  },
  {
   "cell_type": "markdown",
   "metadata": {},
   "source": [
    "# Prepare the data for Machine Learning algorithms"
   ]
  },
  {
   "cell_type": "code",
   "execution_count": 25,
   "metadata": {
    "collapsed": true
   },
   "outputs": [],
   "source": [
    "from sklearn.model_selection import train_test_split\n",
    "\n",
    "train_set, test_set = train_test_split(df_new, test_size=0.2, random_state=42)"
   ]
  },
  {
   "cell_type": "code",
   "execution_count": 26,
   "metadata": {
    "collapsed": true
   },
   "outputs": [],
   "source": [
    "bike=train_set.copy()"
   ]
  },
  {
   "cell_type": "code",
   "execution_count": 27,
   "metadata": {},
   "outputs": [
    {
     "data": {
      "image/png": "[encoded data removed]",
      "text/plain": [
       "<matplotlib.figure.Figure at 0x1140ca898>"
      ]
     },
     "metadata": {},
     "output_type": "display_data"
    }
   ],
   "source": [
    "%matplotlib inline\n",
    "import matplotlib.pyplot as plt\n",
    "bike.hist(bins=50, figsize=(20,15))\n",
    "plt.show()"
   ]
  },
  {
   "cell_type": "code",
   "execution_count": 28,
   "metadata": {},
   "outputs": [
    {
     "data": {
      "text/html": [
       "<div>\n",
       "<style scoped>\n",
       "    .dataframe tbody tr th:only-of-type {\n",
       "        vertical-align: middle;\n",
       "    }\n",
       "\n",
       "    .dataframe tbody tr th {\n",
       "        vertical-align: top;\n",
       "    }\n",
       "\n",
       "    .dataframe thead th {\n",
       "        text-align: right;\n",
       "    }\n",
       "</style>\n",
       "<table border=\"1\" class=\"dataframe\">\n",
       "  <thead>\n",
       "    <tr style=\"text-align: right;\">\n",
       "      <th></th>\n",
       "      <th>Number_of_Participants</th>\n",
       "      <th>Previous_Event_Fiscal_Year</th>\n",
       "      <th>Previous_Event_Confirmed_Gifts</th>\n",
       "      <th>Fiscal_Year</th>\n",
       "      <th>achvmnt</th>\n",
       "    </tr>\n",
       "  </thead>\n",
       "  <tbody>\n",
       "    <tr>\n",
       "      <th>Number_of_Participants</th>\n",
       "      <td>1.000000</td>\n",
       "      <td>0.094744</td>\n",
       "      <td>0.458281</td>\n",
       "      <td>-0.019269</td>\n",
       "      <td>-0.012425</td>\n",
       "    </tr>\n",
       "    <tr>\n",
       "      <th>Previous_Event_Fiscal_Year</th>\n",
       "      <td>0.094744</td>\n",
       "      <td>1.000000</td>\n",
       "      <td>0.300018</td>\n",
       "      <td>0.418280</td>\n",
       "      <td>0.039175</td>\n",
       "    </tr>\n",
       "    <tr>\n",
       "      <th>Previous_Event_Confirmed_Gifts</th>\n",
       "      <td>0.458281</td>\n",
       "      <td>0.300018</td>\n",
       "      <td>1.000000</td>\n",
       "      <td>0.126966</td>\n",
       "      <td>-0.028946</td>\n",
       "    </tr>\n",
       "    <tr>\n",
       "      <th>Fiscal_Year</th>\n",
       "      <td>-0.019269</td>\n",
       "      <td>0.418280</td>\n",
       "      <td>0.126966</td>\n",
       "      <td>1.000000</td>\n",
       "      <td>-0.013142</td>\n",
       "    </tr>\n",
       "    <tr>\n",
       "      <th>achvmnt</th>\n",
       "      <td>-0.012425</td>\n",
       "      <td>0.039175</td>\n",
       "      <td>-0.028946</td>\n",
       "      <td>-0.013142</td>\n",
       "      <td>1.000000</td>\n",
       "    </tr>\n",
       "  </tbody>\n",
       "</table>\n",
       "</div>"
      ],
      "text/plain": [
       "                                Number_of_Participants  \\\n",
       "Number_of_Participants                        1.000000   \n",
       "Previous_Event_Fiscal_Year                    0.094744   \n",
       "Previous_Event_Confirmed_Gifts                0.458281   \n",
       "Fiscal_Year                                  -0.019269   \n",
       "achvmnt                                      -0.012425   \n",
       "\n",
       "                                Previous_Event_Fiscal_Year  \\\n",
       "Number_of_Participants                            0.094744   \n",
       "Previous_Event_Fiscal_Year                        1.000000   \n",
       "Previous_Event_Confirmed_Gifts                    0.300018   \n",
       "Fiscal_Year                                       0.418280   \n",
       "achvmnt                                           0.039175   \n",
       "\n",
       "                                Previous_Event_Confirmed_Gifts  Fiscal_Year  \\\n",
       "Number_of_Participants                                0.458281    -0.019269   \n",
       "Previous_Event_Fiscal_Year                            0.300018     0.418280   \n",
       "Previous_Event_Confirmed_Gifts                        1.000000     0.126966   \n",
       "Fiscal_Year                                           0.126966     1.000000   \n",
       "achvmnt                                              -0.028946    -0.013142   \n",
       "\n",
       "                                 achvmnt  \n",
       "Number_of_Participants         -0.012425  \n",
       "Previous_Event_Fiscal_Year      0.039175  \n",
       "Previous_Event_Confirmed_Gifts -0.028946  \n",
       "Fiscal_Year                    -0.013142  \n",
       "achvmnt                         1.000000  "
      ]
     },
     "execution_count": 28,
     "metadata": {},
     "output_type": "execute_result"
    }
   ],
   "source": [
    "corr_matrix = bike.corr()\n",
    "corr_matrix"
   ]
  },
  {
   "cell_type": "code",
   "execution_count": 29,
   "metadata": {
    "collapsed": true
   },
   "outputs": [],
   "source": [
    "bike = train_set.drop(\"achvmnt\", axis=1)"
   ]
  },
  {
   "cell_type": "code",
   "execution_count": 30,
   "metadata": {
    "collapsed": true
   },
   "outputs": [],
   "source": [
    "bike_labels = train_set[\"achvmnt\"].copy()"
   ]
  },
  {
   "cell_type": "code",
   "execution_count": 31,
   "metadata": {
    "collapsed": true
   },
   "outputs": [],
   "source": [
    "from sklearn import preprocessing\n",
    "le = preprocessing.LabelEncoder()\n",
    "bike_labels = le.fit_transform(train_set[\"achvmnt\"])"
   ]
  },
  {
   "cell_type": "code",
   "execution_count": 32,
   "metadata": {},
   "outputs": [
    {
     "data": {
      "text/plain": [
       "array([1, 0, 0, ..., 1, 1, 1])"
      ]
     },
     "execution_count": 32,
     "metadata": {},
     "output_type": "execute_result"
    }
   ],
   "source": [
    "bike_labels"
   ]
  },
  {
   "cell_type": "code",
   "execution_count": 33,
   "metadata": {},
   "outputs": [
    {
     "name": "stderr",
     "output_type": "stream",
     "text": [
      "/usr/local/Cellar/python3/3.6.4_2/Frameworks/Python.framework/Versions/3.6/lib/python3.6/site-packages/sklearn/preprocessing/label.py:151: DeprecationWarning: The truth value of an empty array is ambiguous. Returning False, but in future this will result in an error. Use `array.size > 0` to check that an array is not empty.\n",
      "  if diff:\n"
     ]
    },
    {
     "data": {
      "text/plain": [
       "array([1, 0, 0, ..., 1, 1, 1])"
      ]
     },
     "execution_count": 33,
     "metadata": {},
     "output_type": "execute_result"
    }
   ],
   "source": [
    "le.inverse_transform(bike_labels)"
   ]
  },
  {
   "cell_type": "code",
   "execution_count": 34,
   "metadata": {},
   "outputs": [
    {
     "data": {
      "text/plain": [
       "[0, 1]"
      ]
     },
     "execution_count": 34,
     "metadata": {},
     "output_type": "execute_result"
    }
   ],
   "source": [
    "list(le.classes_)"
   ]
  },
  {
   "cell_type": "markdown",
   "metadata": {},
   "source": [
    "## Handling Text and Categorical Attributes"
   ]
  },
  {
   "cell_type": "code",
   "execution_count": 35,
   "metadata": {
    "collapsed": true
   },
   "outputs": [],
   "source": [
    "# Definition of the CategoricalEncoder class, copied from PR #9151.\n",
    "# Just run this cell, or copy it to your code, do not try to understand it (yet).\n",
    "\n",
    "from sklearn.base import BaseEstimator, TransformerMixin\n",
    "from sklearn.utils import check_array\n",
    "from sklearn.preprocessing import LabelEncoder\n",
    "from scipy import sparse\n",
    "\n",
    "class CategoricalEncoder(BaseEstimator, TransformerMixin):\n",
    "   \n",
    "    def __init__(self, encoding='onehot', categories='auto', dtype=np.float64,\n",
    "                 handle_unknown='error'):\n",
    "        self.encoding = encoding\n",
    "        self.categories = categories\n",
    "        self.dtype = dtype\n",
    "        self.handle_unknown = handle_unknown\n",
    "\n",
    "    def fit(self, X, y=None):\n",
    "\n",
    "        if self.encoding not in ['onehot', 'onehot-dense', 'ordinal']:\n",
    "            template = (\"encoding should be either 'onehot', 'onehot-dense' \"\n",
    "                        \"or 'ordinal', got %s\")\n",
    "            raise ValueError(template % self.handle_unknown)\n",
    "\n",
    "        if self.handle_unknown not in ['error', 'ignore']:\n",
    "            template = (\"handle_unknown should be either 'error' or \"\n",
    "                        \"'ignore', got %s\")\n",
    "            raise ValueError(template % self.handle_unknown)\n",
    "\n",
    "        if self.encoding == 'ordinal' and self.handle_unknown == 'ignore':\n",
    "            raise ValueError(\"handle_unknown='ignore' is not supported for\"\n",
    "                             \" encoding='ordinal'\")\n",
    "\n",
    "        X = check_array(X, dtype=np.object, accept_sparse='csc', copy=True)\n",
    "        n_samples, n_features = X.shape\n",
    "\n",
    "        self._label_encoders_ = [LabelEncoder() for _ in range(n_features)]\n",
    "\n",
    "        for i in range(n_features):\n",
    "            le = self._label_encoders_[i]\n",
    "            Xi = X[:, i]\n",
    "            if self.categories == 'auto':\n",
    "                le.fit(Xi)\n",
    "            else:\n",
    "                valid_mask = np.in1d(Xi, self.categories[i])\n",
    "                if not np.all(valid_mask):\n",
    "                    if self.handle_unknown == 'error':\n",
    "                        diff = np.unique(Xi[~valid_mask])\n",
    "                        msg = (\"Found unknown categories {0} in column {1}\"\n",
    "                               \" during fit\".format(diff, i))\n",
    "                        raise ValueError(msg)\n",
    "                le.classes_ = np.array(np.sort(self.categories[i]))\n",
    "\n",
    "        self.categories_ = [le.classes_ for le in self._label_encoders_]\n",
    "\n",
    "        return self\n",
    "\n",
    "    def transform(self, X):\n",
    "        \n",
    "        X = check_array(X, accept_sparse='csc', dtype=np.object, copy=True)\n",
    "        n_samples, n_features = X.shape\n",
    "        X_int = np.zeros_like(X, dtype=np.int)\n",
    "        X_mask = np.ones_like(X, dtype=np.bool)\n",
    "\n",
    "        for i in range(n_features):\n",
    "            valid_mask = np.in1d(X[:, i], self.categories_[i])\n",
    "\n",
    "            if not np.all(valid_mask):\n",
    "                if self.handle_unknown == 'error':\n",
    "                    diff = np.unique(X[~valid_mask, i])\n",
    "                    msg = (\"Found unknown categories {0} in column {1}\"\n",
    "                           \" during transform\".format(diff, i))\n",
    "                    raise ValueError(msg)\n",
    "                else:\n",
    "                    # Set the problematic rows to an acceptable value and\n",
    "                    # continue `The rows are marked `X_mask` and will be\n",
    "                    # removed later.\n",
    "                    X_mask[:, i] = valid_mask\n",
    "                    X[:, i][~valid_mask] = self.categories_[i][0]\n",
    "            X_int[:, i] = self._label_encoders_[i].transform(X[:, i])\n",
    "\n",
    "        if self.encoding == 'ordinal':\n",
    "            return X_int.astype(self.dtype, copy=False)\n",
    "\n",
    "        mask = X_mask.ravel()\n",
    "        n_values = [cats.shape[0] for cats in self.categories_]\n",
    "        n_values = np.array([0] + n_values)\n",
    "        indices = np.cumsum(n_values)\n",
    "\n",
    "        column_indices = (X_int + indices[:-1]).ravel()[mask]\n",
    "        row_indices = np.repeat(np.arange(n_samples, dtype=np.int32),\n",
    "                                n_features)[mask]\n",
    "        data = np.ones(n_samples * n_features)[mask]\n",
    "\n",
    "        out = sparse.csc_matrix((data, (row_indices, column_indices)),\n",
    "                                shape=(n_samples, indices[-1]),\n",
    "                                dtype=self.dtype).tocsr()\n",
    "        if self.encoding == 'onehot-dense':\n",
    "            return out.toarray()\n",
    "        else:\n",
    "            return out"
   ]
  },
  {
   "cell_type": "code",
   "execution_count": 36,
   "metadata": {},
   "outputs": [
    {
     "name": "stdout",
     "output_type": "stream",
     "text": [
      "<class 'pandas.core.frame.DataFrame'>\n",
      "Int64Index: 26062 entries, 24486 to 23733\n",
      "Data columns (total 8 columns):\n",
      "Team_Captain_Accept_Email         26062 non-null object\n",
      "Team_Division                     26062 non-null object\n",
      "Company                           26062 non-null category\n",
      "Number_of_Participants            26062 non-null int64\n",
      "Previous_Event_Fiscal_Year        26062 non-null float64\n",
      "Previous_Event_Confirmed_Gifts    26062 non-null float64\n",
      "Previous_Event_Team_Members       26062 non-null object\n",
      "Fiscal_Year                       26062 non-null float64\n",
      "dtypes: category(1), float64(3), int64(1), object(3)\n",
      "memory usage: 1.6+ MB\n"
     ]
    }
   ],
   "source": [
    "bike.info()"
   ]
  },
  {
   "cell_type": "code",
   "execution_count": 37,
   "metadata": {
    "collapsed": true
   },
   "outputs": [],
   "source": [
    "bike_Team_Captain_Accept_Email=bike['Team_Captain_Accept_Email']"
   ]
  },
  {
   "cell_type": "code",
   "execution_count": 38,
   "metadata": {},
   "outputs": [
    {
     "data": {
      "text/plain": [
       "<26062x2 sparse matrix of type '<class 'numpy.float64'>'\n",
       "\twith 26062 stored elements in Compressed Sparse Row format>"
      ]
     },
     "execution_count": 38,
     "metadata": {},
     "output_type": "execute_result"
    }
   ],
   "source": [
    "cat_encoder = CategoricalEncoder()\n",
    "bike_Team_Captain_Accept_Email_reshaped = bike_Team_Captain_Accept_Email .values.reshape(-1, 1)\n",
    "bike_Team_Captain_Accept_Email_1hot = cat_encoder.fit_transform(bike_Team_Captain_Accept_Email_reshaped)\n",
    "bike_Team_Captain_Accept_Email_1hot "
   ]
  },
  {
   "cell_type": "code",
   "execution_count": 39,
   "metadata": {},
   "outputs": [
    {
     "data": {
      "text/plain": [
       "array([[0., 1.],\n",
       "       [0., 1.],\n",
       "       [0., 1.],\n",
       "       ...,\n",
       "       [1., 0.],\n",
       "       [0., 1.],\n",
       "       [0., 1.]])"
      ]
     },
     "execution_count": 39,
     "metadata": {},
     "output_type": "execute_result"
    }
   ],
   "source": [
    "bike_Team_Captain_Accept_Email_1hot.toarray()"
   ]
  },
  {
   "cell_type": "code",
   "execution_count": 40,
   "metadata": {},
   "outputs": [
    {
     "data": {
      "text/plain": [
       "[array(['false', 'true'], dtype=object)]"
      ]
     },
     "execution_count": 40,
     "metadata": {},
     "output_type": "execute_result"
    }
   ],
   "source": [
    "cat_encoder.categories_"
   ]
  },
  {
   "cell_type": "code",
   "execution_count": 41,
   "metadata": {
    "collapsed": true
   },
   "outputs": [],
   "source": [
    "bike['Company']=bike['Company'].astype('int')\n",
    "bike['Previous_Event_Team_Members']=bike['Previous_Event_Team_Members'].astype('int')"
   ]
  },
  {
   "cell_type": "code",
   "execution_count": 42,
   "metadata": {},
   "outputs": [
    {
     "name": "stdout",
     "output_type": "stream",
     "text": [
      "<class 'pandas.core.frame.DataFrame'>\n",
      "Int64Index: 26062 entries, 24486 to 23733\n",
      "Data columns (total 8 columns):\n",
      "Team_Captain_Accept_Email         26062 non-null object\n",
      "Team_Division                     26062 non-null object\n",
      "Company                           26062 non-null int64\n",
      "Number_of_Participants            26062 non-null int64\n",
      "Previous_Event_Fiscal_Year        26062 non-null float64\n",
      "Previous_Event_Confirmed_Gifts    26062 non-null float64\n",
      "Previous_Event_Team_Members       26062 non-null int64\n",
      "Fiscal_Year                       26062 non-null float64\n",
      "dtypes: float64(3), int64(3), object(2)\n",
      "memory usage: 1.8+ MB\n"
     ]
    }
   ],
   "source": [
    "bike.info()"
   ]
  },
  {
   "cell_type": "code",
   "execution_count": 43,
   "metadata": {},
   "outputs": [
    {
     "data": {
      "text/html": [
       "<div>\n",
       "<style scoped>\n",
       "    .dataframe tbody tr th:only-of-type {\n",
       "        vertical-align: middle;\n",
       "    }\n",
       "\n",
       "    .dataframe tbody tr th {\n",
       "        vertical-align: top;\n",
       "    }\n",
       "\n",
       "    .dataframe thead th {\n",
       "        text-align: right;\n",
       "    }\n",
       "</style>\n",
       "<table border=\"1\" class=\"dataframe\">\n",
       "  <thead>\n",
       "    <tr style=\"text-align: right;\">\n",
       "      <th></th>\n",
       "      <th>Team_Captain_Accept_Email</th>\n",
       "      <th>Team_Division</th>\n",
       "    </tr>\n",
       "  </thead>\n",
       "  <tbody>\n",
       "    <tr>\n",
       "      <th>24486</th>\n",
       "      <td>true</td>\n",
       "      <td>Other</td>\n",
       "    </tr>\n",
       "    <tr>\n",
       "      <th>28680</th>\n",
       "      <td>true</td>\n",
       "      <td>Corporate</td>\n",
       "    </tr>\n",
       "    <tr>\n",
       "      <th>1338</th>\n",
       "      <td>true</td>\n",
       "      <td>Corporate</td>\n",
       "    </tr>\n",
       "    <tr>\n",
       "      <th>7047</th>\n",
       "      <td>true</td>\n",
       "      <td>Corporate</td>\n",
       "    </tr>\n",
       "    <tr>\n",
       "      <th>8225</th>\n",
       "      <td>true</td>\n",
       "      <td>Corporate</td>\n",
       "    </tr>\n",
       "  </tbody>\n",
       "</table>\n",
       "</div>"
      ],
      "text/plain": [
       "      Team_Captain_Accept_Email Team_Division\n",
       "24486                      true         Other\n",
       "28680                      true     Corporate\n",
       "1338                       true     Corporate\n",
       "7047                       true     Corporate\n",
       "8225                       true     Corporate"
      ]
     },
     "execution_count": 43,
     "metadata": {},
     "output_type": "execute_result"
    }
   ],
   "source": [
    "bike_cat = bike.select_dtypes(include=[np.object])\n",
    "bike_cat.head()"
   ]
  },
  {
   "cell_type": "code",
   "execution_count": 44,
   "metadata": {},
   "outputs": [
    {
     "data": {
      "text/html": [
       "<div>\n",
       "<style scoped>\n",
       "    .dataframe tbody tr th:only-of-type {\n",
       "        vertical-align: middle;\n",
       "    }\n",
       "\n",
       "    .dataframe tbody tr th {\n",
       "        vertical-align: top;\n",
       "    }\n",
       "\n",
       "    .dataframe thead th {\n",
       "        text-align: right;\n",
       "    }\n",
       "</style>\n",
       "<table border=\"1\" class=\"dataframe\">\n",
       "  <thead>\n",
       "    <tr style=\"text-align: right;\">\n",
       "      <th></th>\n",
       "      <th>Company</th>\n",
       "      <th>Number_of_Participants</th>\n",
       "      <th>Previous_Event_Fiscal_Year</th>\n",
       "      <th>Previous_Event_Confirmed_Gifts</th>\n",
       "      <th>Previous_Event_Team_Members</th>\n",
       "      <th>Fiscal_Year</th>\n",
       "    </tr>\n",
       "  </thead>\n",
       "  <tbody>\n",
       "    <tr>\n",
       "      <th>24486</th>\n",
       "      <td>0</td>\n",
       "      <td>3</td>\n",
       "      <td>1.0</td>\n",
       "      <td>2140.0</td>\n",
       "      <td>3</td>\n",
       "      <td>2016.0</td>\n",
       "    </tr>\n",
       "    <tr>\n",
       "      <th>28680</th>\n",
       "      <td>1</td>\n",
       "      <td>4</td>\n",
       "      <td>1.0</td>\n",
       "      <td>3800.0</td>\n",
       "      <td>5</td>\n",
       "      <td>2017.0</td>\n",
       "    </tr>\n",
       "    <tr>\n",
       "      <th>1338</th>\n",
       "      <td>1</td>\n",
       "      <td>19</td>\n",
       "      <td>0.0</td>\n",
       "      <td>0.0</td>\n",
       "      <td>0</td>\n",
       "      <td>2013.0</td>\n",
       "    </tr>\n",
       "    <tr>\n",
       "      <th>7047</th>\n",
       "      <td>1</td>\n",
       "      <td>13</td>\n",
       "      <td>0.0</td>\n",
       "      <td>0.0</td>\n",
       "      <td>0</td>\n",
       "      <td>2014.0</td>\n",
       "    </tr>\n",
       "    <tr>\n",
       "      <th>8225</th>\n",
       "      <td>1</td>\n",
       "      <td>6</td>\n",
       "      <td>0.0</td>\n",
       "      <td>0.0</td>\n",
       "      <td>0</td>\n",
       "      <td>2014.0</td>\n",
       "    </tr>\n",
       "  </tbody>\n",
       "</table>\n",
       "</div>"
      ],
      "text/plain": [
       "       Company  Number_of_Participants  Previous_Event_Fiscal_Year  \\\n",
       "24486        0                       3                         1.0   \n",
       "28680        1                       4                         1.0   \n",
       "1338         1                      19                         0.0   \n",
       "7047         1                      13                         0.0   \n",
       "8225         1                       6                         0.0   \n",
       "\n",
       "       Previous_Event_Confirmed_Gifts  Previous_Event_Team_Members  \\\n",
       "24486                          2140.0                            3   \n",
       "28680                          3800.0                            5   \n",
       "1338                              0.0                            0   \n",
       "7047                              0.0                            0   \n",
       "8225                              0.0                            0   \n",
       "\n",
       "       Fiscal_Year  \n",
       "24486       2016.0  \n",
       "28680       2017.0  \n",
       "1338        2013.0  \n",
       "7047        2014.0  \n",
       "8225        2014.0  "
      ]
     },
     "execution_count": 44,
     "metadata": {},
     "output_type": "execute_result"
    }
   ],
   "source": [
    "bike_num = bike.select_dtypes(include=[np.number])\n",
    "bike_num.head()"
   ]
  },
  {
   "cell_type": "code",
   "execution_count": 45,
   "metadata": {
    "collapsed": true
   },
   "outputs": [],
   "source": [
    "from sklearn.pipeline import Pipeline\n",
    "from sklearn.preprocessing import StandardScaler\n",
    "\n",
    "num_pipeline = Pipeline([\n",
    "        #('imputer', Imputer(strategy=\"median\")),\n",
    "        #('attribs_adder', CombinedAttributesAdder()),\n",
    "        ('std_scaler', StandardScaler()),\n",
    "    ])\n",
    "\n",
    "bike_num_tr = num_pipeline.fit_transform(bike_num)"
   ]
  },
  {
   "cell_type": "code",
   "execution_count": 46,
   "metadata": {
    "collapsed": true
   },
   "outputs": [],
   "source": [
    "from sklearn.base import BaseEstimator, TransformerMixin\n",
    "\n",
    "# Create a class to select numerical or categorical columns \n",
    "# since Scikit-Learn doesn't handle DataFrames yet\n",
    "class DataFrameSelector(BaseEstimator, TransformerMixin):\n",
    "    def __init__(self, attribute_names):\n",
    "        self.attribute_names = attribute_names\n",
    "    def fit(self, X, y=None):\n",
    "        return self\n",
    "    def transform(self, X):\n",
    "        return X[self.attribute_names].values"
   ]
  },
  {
   "cell_type": "code",
   "execution_count": 47,
   "metadata": {
    "collapsed": true
   },
   "outputs": [],
   "source": [
    "num_attribs = list(bike_num)\n",
    "cat_attribs = list(bike_cat)\n",
    "\n",
    "num_pipeline = Pipeline([\n",
    "        ('selector', DataFrameSelector(num_attribs)),\n",
    "        #('imputer', Imputer(strategy=\"median\")),\n",
    "        #('attribs_adder', CombinedAttributesAdder()),\n",
    "        ('std_scaler', StandardScaler()),\n",
    "    ])\n",
    "\n",
    "cat_pipeline = Pipeline([\n",
    "        ('selector', DataFrameSelector(cat_attribs)),\n",
    "        ('cat_encoder', CategoricalEncoder(encoding=\"onehot-dense\")),\n",
    "    ])\n",
    "\n",
    "#Each pipeline creates separate results"
   ]
  },
  {
   "cell_type": "code",
   "execution_count": 48,
   "metadata": {
    "collapsed": true
   },
   "outputs": [],
   "source": [
    "from sklearn.pipeline import FeatureUnion\n",
    "\n",
    "full_pipeline = FeatureUnion(transformer_list=[\n",
    "        (\"num_pipeline\", num_pipeline),\n",
    "        (\"cat_pipeline\", cat_pipeline),\n",
    "    ])\n",
    "\n",
    "# FeatureUnion joins both the pipleines column-wise"
   ]
  },
  {
   "cell_type": "code",
   "execution_count": 49,
   "metadata": {
    "collapsed": true
   },
   "outputs": [],
   "source": [
    "bike_prepared = full_pipeline.fit_transform(bike)"
   ]
  },
  {
   "cell_type": "code",
   "execution_count": 50,
   "metadata": {},
   "outputs": [
    {
     "data": {
      "text/plain": [
       "array([[-0.6581, -0.3552,  1.7645, ...,  0.    ,  0.    ,  1.    ],\n",
       "       [ 1.5196, -0.3104,  1.7645, ...,  1.    ,  0.    ,  0.    ],\n",
       "       [ 1.5196,  0.3601, -0.5667, ...,  1.    ,  0.    ,  0.    ],\n",
       "       ...,\n",
       "       [-0.6581, -0.3999, -0.5667, ...,  0.    ,  1.    ,  0.    ],\n",
       "       [-0.6581, -0.3552, -0.5667, ...,  0.    ,  1.    ,  0.    ],\n",
       "       [ 1.5196, -0.1763, -0.5667, ...,  1.    ,  0.    ,  0.    ]])"
      ]
     },
     "execution_count": 50,
     "metadata": {},
     "output_type": "execute_result"
    }
   ],
   "source": [
    "bike_prepared"
   ]
  },
  {
   "cell_type": "code",
   "execution_count": 51,
   "metadata": {},
   "outputs": [
    {
     "data": {
      "text/plain": [
       "(26062, 11)"
      ]
     },
     "execution_count": 51,
     "metadata": {},
     "output_type": "execute_result"
    }
   ],
   "source": [
    "bike_prepared.shape"
   ]
  },
  {
   "cell_type": "code",
   "execution_count": 52,
   "metadata": {
    "collapsed": true
   },
   "outputs": [],
   "source": [
    "cat_encoder = CategoricalEncoder(encoding=\"onehot-dense\")"
   ]
  },
  {
   "cell_type": "code",
   "execution_count": 53,
   "metadata": {},
   "outputs": [
    {
     "data": {
      "text/plain": [
       "['false', 'true']"
      ]
     },
     "execution_count": 53,
     "metadata": {},
     "output_type": "execute_result"
    }
   ],
   "source": [
    "cat_encoder = cat_pipeline.named_steps[\"cat_encoder\"]\n",
    "cat_one_hot_attribs_1 = list(cat_encoder.categories_[0])\n",
    "cat_one_hot_attribs_1\n",
    "# finding catogor"
   ]
  },
  {
   "cell_type": "code",
   "execution_count": 54,
   "metadata": {},
   "outputs": [
    {
     "data": {
      "text/plain": [
       "['Corporate', 'Friends and Family', 'Other']"
      ]
     },
     "execution_count": 54,
     "metadata": {},
     "output_type": "execute_result"
    }
   ],
   "source": [
    "cat_encoder = cat_pipeline.named_steps[\"cat_encoder\"]\n",
    "cat_one_hot_attribs_2 = list(cat_encoder.categories_[1])\n",
    "cat_one_hot_attribs_2"
   ]
  },
  {
   "cell_type": "markdown",
   "metadata": {},
   "source": [
    "# Select and train a model "
   ]
  },
  {
   "cell_type": "code",
   "execution_count": 55,
   "metadata": {
    "collapsed": true
   },
   "outputs": [],
   "source": [
    "import warnings\n",
    "warnings.filterwarnings(action=\"ignore\", module=\"scipy\", message=\"^internal gelsd\")"
   ]
  },
  {
   "cell_type": "code",
   "execution_count": 56,
   "metadata": {},
   "outputs": [
    {
     "data": {
      "text/plain": [
       "SGDClassifier(alpha=0.0001, average=False, class_weight=None, epsilon=0.1,\n",
       "       eta0=0.0, fit_intercept=True, l1_ratio=0.15,\n",
       "       learning_rate='optimal', loss='hinge', max_iter=None, n_iter=None,\n",
       "       n_jobs=1, penalty='l2', power_t=0.5, random_state=42, shuffle=True,\n",
       "       tol=None, verbose=0, warm_start=False)"
      ]
     },
     "execution_count": 56,
     "metadata": {},
     "output_type": "execute_result"
    }
   ],
   "source": [
    "from sklearn.linear_model import SGDClassifier\n",
    "\n",
    "## works with scikit-learn 0.19.1\n",
    "#sgd_clf = SGDClassifier(random_state=42, max_iter=1000, tol=1e-3)\n",
    "sgd_clf = SGDClassifier(random_state=42)\n",
    "sgd_clf.fit(bike_prepared, bike_labels)"
   ]
  },
  {
   "cell_type": "code",
   "execution_count": 57,
   "metadata": {},
   "outputs": [
    {
     "data": {
      "text/plain": [
       "array([ 1.5196, -0.2657, -0.5667, -0.17  , -0.2478, -1.3528,  1.    ,\n",
       "        0.    ,  0.    ,  1.    ,  0.    ])"
      ]
     },
     "execution_count": 57,
     "metadata": {},
     "output_type": "execute_result"
    }
   ],
   "source": [
    "some_bike = bike_prepared[1000,:]\n",
    "some_bike"
   ]
  },
  {
   "cell_type": "code",
   "execution_count": 58,
   "metadata": {},
   "outputs": [
    {
     "data": {
      "text/plain": [
       "0"
      ]
     },
     "execution_count": 58,
     "metadata": {},
     "output_type": "execute_result"
    }
   ],
   "source": [
    "some_bike_label = bike_labels[1000]\n",
    "some_bike_label"
   ]
  },
  {
   "cell_type": "code",
   "execution_count": 59,
   "metadata": {},
   "outputs": [
    {
     "data": {
      "text/plain": [
       "array([0])"
      ]
     },
     "execution_count": 59,
     "metadata": {},
     "output_type": "execute_result"
    }
   ],
   "source": [
    "sgd_clf.predict([some_bike])"
   ]
  },
  {
   "cell_type": "code",
   "execution_count": 60,
   "metadata": {},
   "outputs": [
    {
     "data": {
      "text/plain": [
       "array([0.5329, 0.5947, 0.5951, 0.481 , 0.5085])"
      ]
     },
     "execution_count": 60,
     "metadata": {},
     "output_type": "execute_result"
    }
   ],
   "source": [
    "from sklearn.model_selection import cross_val_score\n",
    "cross_val_score(sgd_clf, bike_prepared, bike_labels, cv=5, scoring=\"accuracy\")"
   ]
  },
  {
   "cell_type": "code",
   "execution_count": 61,
   "metadata": {},
   "outputs": [
    {
     "name": "stdout",
     "output_type": "stream",
     "text": [
      "0.5328985229234606\n",
      "0.5946671782083254\n",
      "0.5950508344523308\n",
      "0.4810053722179586\n",
      "0.5085396277106121\n"
     ]
    }
   ],
   "source": [
    "from sklearn.model_selection import StratifiedKFold\n",
    "from sklearn.base import clone\n",
    "\n",
    "skfolds = StratifiedKFold(n_splits=5, random_state=42)\n",
    "\n",
    "for train_index, test_index in skfolds.split(bike_prepared, bike_labels):\n",
    "    clone_clf = clone(sgd_clf)\n",
    "    X_train_folds = bike_prepared[train_index]\n",
    "    y_train_folds = (bike_labels[train_index])\n",
    "    X_test_fold = bike_prepared[test_index]\n",
    "    y_test_fold = (bike_labels[test_index])\n",
    "\n",
    "    clone_clf.fit(X_train_folds, y_train_folds)\n",
    "    y_pred = clone_clf.predict(X_test_fold)\n",
    "    n_correct = sum(y_pred == y_test_fold)\n",
    "    print(n_correct / len(y_pred))"
   ]
  },
  {
   "cell_type": "code",
   "execution_count": 62,
   "metadata": {},
   "outputs": [
    {
     "name": "stdout",
     "output_type": "stream",
     "text": [
      "train 20851 test 5211\n"
     ]
    }
   ],
   "source": [
    "print('train', len(train_index), 'test', len(test_index))"
   ]
  },
  {
   "cell_type": "code",
   "execution_count": 63,
   "metadata": {
    "collapsed": true
   },
   "outputs": [],
   "source": [
    "from sklearn.base import BaseEstimator\n",
    "class AllZerosClassifier(BaseEstimator):\n",
    "    def fit(self, X, y=None):\n",
    "        pass\n",
    "    def predict(self, X):\n",
    "        return np.zeros((len(X), 1), dtype=bool)"
   ]
  },
  {
   "cell_type": "code",
   "execution_count": 64,
   "metadata": {},
   "outputs": [
    {
     "data": {
      "text/plain": [
       "array([0.398 , 0.4046, 0.4075, 0.3927, 0.4045])"
      ]
     },
     "execution_count": 64,
     "metadata": {},
     "output_type": "execute_result"
    }
   ],
   "source": [
    "all_0_clf = AllZerosClassifier()\n",
    "cross_val_score(all_0_clf, bike_prepared, bike_labels, cv=5, scoring=\"accuracy\")"
   ]
  },
  {
   "cell_type": "code",
   "execution_count": 65,
   "metadata": {
    "collapsed": true
   },
   "outputs": [],
   "source": [
    "from sklearn.base import BaseEstimator\n",
    "class AllOnesClassifier(BaseEstimator):\n",
    "    def fit(self, X, y=None):\n",
    "        pass\n",
    "    def predict(self, X):\n",
    "        return np.ones((len(X), 1), dtype=bool)"
   ]
  },
  {
   "cell_type": "code",
   "execution_count": 66,
   "metadata": {},
   "outputs": [
    {
     "data": {
      "text/plain": [
       "array([0.602 , 0.5954, 0.5925, 0.6073, 0.5955])"
      ]
     },
     "execution_count": 66,
     "metadata": {},
     "output_type": "execute_result"
    }
   ],
   "source": [
    "all_1_clf = AllOnesClassifier()\n",
    "cross_val_score(all_1_clf, bike_prepared, bike_labels, cv=5, scoring=\"accuracy\")"
   ]
  },
  {
   "cell_type": "markdown",
   "metadata": {},
   "source": [
    "-  SGD Classifier<br>\n",
    "5 fold CV Accuracy<br>\n",
    "0.5329, 0.5947, 0.5951, 0.481 , 0.5085<br>\n",
    "\n",
    "\n",
    "-  All Zeros Classifier<br>\n",
    "5 fold CV Accuracy<br>\n",
    "0.398 , 0.4046, 0.4075, 0.3927, 0.4045<br>\n",
    "\n",
    "\n",
    "-  All Ones Classifier<br>\n",
    "5 fold CV Accuracy<br>\n",
    "0.602 , 0.5954, 0.5925, 0.6073, 0.5955<br>"
   ]
  },
  {
   "cell_type": "markdown",
   "metadata": {},
   "source": [
    "### Confusion Matrix\n"
   ]
  },
  {
   "cell_type": "code",
   "execution_count": 67,
   "metadata": {
    "collapsed": true
   },
   "outputs": [],
   "source": [
    "from sklearn.model_selection import cross_val_predict\n",
    "\n",
    "bike_labels_pred = cross_val_predict(sgd_clf, bike_prepared, bike_labels, cv=5)"
   ]
  },
  {
   "cell_type": "code",
   "execution_count": 68,
   "metadata": {},
   "outputs": [
    {
     "data": {
      "text/plain": [
       "array([0, 0, 1, ..., 0, 0, 0])"
      ]
     },
     "execution_count": 68,
     "metadata": {},
     "output_type": "execute_result"
    }
   ],
   "source": [
    "bike_labels_pred"
   ]
  },
  {
   "cell_type": "code",
   "execution_count": 69,
   "metadata": {},
   "outputs": [
    {
     "data": {
      "text/plain": [
       "array([[ 3272,  7191],\n",
       "       [ 4734, 10865]])"
      ]
     },
     "execution_count": 69,
     "metadata": {},
     "output_type": "execute_result"
    }
   ],
   "source": [
    "from sklearn.metrics import confusion_matrix\n",
    "\n",
    "confusion_matrix(bike_labels, bike_labels_pred)"
   ]
  },
  {
   "cell_type": "code",
   "execution_count": 70,
   "metadata": {
    "collapsed": true
   },
   "outputs": [],
   "source": [
    "conf_mx = confusion_matrix(bike_labels, bike_labels_pred)\n",
    "row_sums = conf_mx.sum(axis=1, keepdims=True)\n",
    "norm_conf_mx = conf_mx / row_sums"
   ]
  },
  {
   "cell_type": "code",
   "execution_count": 71,
   "metadata": {},
   "outputs": [
    {
     "data": {
      "image/png": "[encoded data removed]",
      "text/plain": [
       "<matplotlib.figure.Figure at 0x114acfa90>"
      ]
     },
     "metadata": {},
     "output_type": "display_data"
    }
   ],
   "source": [
    "np.fill_diagonal(norm_conf_mx, 0)\n",
    "plt.matshow(norm_conf_mx, cmap=plt.cm.gray)\n",
    "plt.show()"
   ]
  },
  {
   "cell_type": "code",
   "execution_count": 72,
   "metadata": {
    "collapsed": true
   },
   "outputs": [],
   "source": [
    "tn, fp, fn, tp = confusion_matrix(bike_labels, bike_labels_pred).ravel()"
   ]
  },
  {
   "cell_type": "code",
   "execution_count": 73,
   "metadata": {},
   "outputs": [
    {
     "name": "stdout",
     "output_type": "stream",
     "text": [
      "True Positives  (TP):  10865\n",
      "False Positives (FP):  7191\n",
      "True Negatives  (TN):  3272\n",
      "False Negatives (FN):  4734\n"
     ]
    }
   ],
   "source": [
    "print(\"True Positives  (TP): \", tp)\n",
    "print(\"False Positives (FP): \", fp)\n",
    "print(\"True Negatives  (TN): \", tn)\n",
    "print(\"False Negatives (FN): \", fn)"
   ]
  },
  {
   "cell_type": "code",
   "execution_count": 74,
   "metadata": {},
   "outputs": [
    {
     "data": {
      "text/plain": [
       "array([[10463,     0],\n",
       "       [    0, 15599]])"
      ]
     },
     "execution_count": 74,
     "metadata": {},
     "output_type": "execute_result"
    }
   ],
   "source": [
    "bike_labels_perfect_predictions = bike_labels\n",
    "\n",
    "confusion_matrix(bike_labels, bike_labels_perfect_predictions)"
   ]
  },
  {
   "cell_type": "code",
   "execution_count": 75,
   "metadata": {},
   "outputs": [
    {
     "data": {
      "text/plain": [
       "0.6017390341160833"
      ]
     },
     "execution_count": 75,
     "metadata": {},
     "output_type": "execute_result"
    }
   ],
   "source": [
    "from sklearn.metrics import precision_score, recall_score\n",
    "\n",
    "precision_score(bike_labels, bike_labels_pred)"
   ]
  },
  {
   "cell_type": "code",
   "execution_count": 76,
   "metadata": {},
   "outputs": [
    {
     "data": {
      "text/plain": [
       "0.6017390341160833"
      ]
     },
     "execution_count": 76,
     "metadata": {},
     "output_type": "execute_result"
    }
   ],
   "source": [
    "precision = tp/(tp+fp)\n",
    "precision"
   ]
  },
  {
   "cell_type": "code",
   "execution_count": 77,
   "metadata": {},
   "outputs": [
    {
     "data": {
      "text/plain": [
       "0.6965190076286941"
      ]
     },
     "execution_count": 77,
     "metadata": {},
     "output_type": "execute_result"
    }
   ],
   "source": [
    "recall_score(bike_labels, bike_labels_pred)"
   ]
  },
  {
   "cell_type": "code",
   "execution_count": 78,
   "metadata": {},
   "outputs": [
    {
     "data": {
      "text/plain": [
       "0.6965190076286941"
      ]
     },
     "execution_count": 78,
     "metadata": {},
     "output_type": "execute_result"
    }
   ],
   "source": [
    "recall = tp/(tp+fn)\n",
    "recall"
   ]
  },
  {
   "cell_type": "code",
   "execution_count": 79,
   "metadata": {},
   "outputs": [
    {
     "data": {
      "text/plain": [
       "0.6456692913385826"
      ]
     },
     "execution_count": 79,
     "metadata": {},
     "output_type": "execute_result"
    }
   ],
   "source": [
    "from sklearn.metrics import f1_score\n",
    "f1_score(bike_labels, bike_labels_pred)"
   ]
  },
  {
   "cell_type": "code",
   "execution_count": 80,
   "metadata": {},
   "outputs": [
    {
     "data": {
      "text/plain": [
       "0.6456692913385826"
      ]
     },
     "execution_count": 80,
     "metadata": {},
     "output_type": "execute_result"
    }
   ],
   "source": [
    "f1 = 2 * (precision * recall)/(precision + recall)\n",
    "f1"
   ]
  },
  {
   "cell_type": "code",
   "execution_count": 81,
   "metadata": {},
   "outputs": [
    {
     "data": {
      "text/plain": [
       "array([-0.4298])"
      ]
     },
     "execution_count": 81,
     "metadata": {},
     "output_type": "execute_result"
    }
   ],
   "source": [
    "# predict class probabilities\n",
    "y_scores = sgd_clf.decision_function([some_bike])\n",
    "y_scores"
   ]
  },
  {
   "cell_type": "code",
   "execution_count": 82,
   "metadata": {},
   "outputs": [
    {
     "data": {
      "text/plain": [
       "array([False])"
      ]
     },
     "execution_count": 82,
     "metadata": {},
     "output_type": "execute_result"
    }
   ],
   "source": [
    "threshold = 0\n",
    "y_some_bike_pred = (y_scores > threshold)\n",
    "y_some_bike_pred"
   ]
  },
  {
   "cell_type": "code",
   "execution_count": 83,
   "metadata": {},
   "outputs": [
    {
     "data": {
      "text/plain": [
       "array([ True])"
      ]
     },
     "execution_count": 83,
     "metadata": {},
     "output_type": "execute_result"
    }
   ],
   "source": [
    "threshold = -2\n",
    "y_some_bike_pred = (y_scores > threshold)\n",
    "y_some_bike_pred"
   ]
  },
  {
   "cell_type": "code",
   "execution_count": 84,
   "metadata": {
    "collapsed": true
   },
   "outputs": [],
   "source": [
    "y_scores = cross_val_predict(sgd_clf, bike_prepared, bike_labels, cv=5,\n",
    "                             method=\"decision_function\")"
   ]
  },
  {
   "cell_type": "code",
   "execution_count": 85,
   "metadata": {},
   "outputs": [
    {
     "data": {
      "text/plain": [
       "(26062,)"
      ]
     },
     "execution_count": 85,
     "metadata": {},
     "output_type": "execute_result"
    }
   ],
   "source": [
    "y_scores.shape"
   ]
  },
  {
   "cell_type": "code",
   "execution_count": 86,
   "metadata": {
    "collapsed": true
   },
   "outputs": [],
   "source": [
    "if y_scores.ndim == 2:\n",
    "    y_scores = y_scores[:, 1]"
   ]
  },
  {
   "cell_type": "code",
   "execution_count": 87,
   "metadata": {
    "collapsed": true
   },
   "outputs": [],
   "source": [
    "from sklearn.metrics import precision_recall_curve\n",
    "\n",
    "precisions, recalls, thresholds = precision_recall_curve(bike_labels, y_scores)"
   ]
  },
  {
   "cell_type": "code",
   "execution_count": 88,
   "metadata": {},
   "outputs": [
    {
     "data": {
      "text/plain": [
       "(11218,)"
      ]
     },
     "execution_count": 88,
     "metadata": {},
     "output_type": "execute_result"
    }
   ],
   "source": [
    "precisions.shape"
   ]
  },
  {
   "cell_type": "code",
   "execution_count": 89,
   "metadata": {},
   "outputs": [
    {
     "data": {
      "text/plain": [
       "(11218,)"
      ]
     },
     "execution_count": 89,
     "metadata": {},
     "output_type": "execute_result"
    }
   ],
   "source": [
    "recalls.shape"
   ]
  },
  {
   "cell_type": "code",
   "execution_count": 90,
   "metadata": {},
   "outputs": [
    {
     "data": {
      "text/plain": [
       "(11217,)"
      ]
     },
     "execution_count": 90,
     "metadata": {},
     "output_type": "execute_result"
    }
   ],
   "source": [
    "thresholds.shape"
   ]
  },
  {
   "cell_type": "code",
   "execution_count": 91,
   "metadata": {},
   "outputs": [
    {
     "data": {
      "image/png": "[encoded data removed]",
      "text/plain": [
       "<matplotlib.figure.Figure at 0x1147bdbe0>"
      ]
     },
     "metadata": {},
     "output_type": "display_data"
    }
   ],
   "source": [
    "def plot_precision_recall_vs_threshold(precisions, recalls, thresholds):\n",
    "    plt.plot(thresholds, precisions[:-1], \"b--\", label=\"Precision\", linewidth=2)\n",
    "    plt.plot(thresholds, recalls[:-1], \"g-\", label=\"Recall\", linewidth=2)\n",
    "    plt.xlabel(\"Threshold\", fontsize=16)\n",
    "    plt.legend(loc=\"upper left\", fontsize=16)\n",
    "    plt.ylim([0, 1])\n",
    "\n",
    "plt.figure(figsize=(10, 5))\n",
    "plot_precision_recall_vs_threshold(precisions, recalls, thresholds)\n",
    "plt.xlim([-10, 10])\n",
    "plt.show()"
   ]
  },
  {
   "cell_type": "code",
   "execution_count": 92,
   "metadata": {
    "collapsed": true
   },
   "outputs": [],
   "source": [
    "y_train_pred_90 = (y_scores > 8)"
   ]
  },
  {
   "cell_type": "code",
   "execution_count": 93,
   "metadata": {},
   "outputs": [
    {
     "data": {
      "text/plain": [
       "0.4666666666666667"
      ]
     },
     "execution_count": 93,
     "metadata": {},
     "output_type": "execute_result"
    }
   ],
   "source": [
    "precision_score(bike_labels, y_train_pred_90)"
   ]
  },
  {
   "cell_type": "code",
   "execution_count": 94,
   "metadata": {},
   "outputs": [
    {
     "data": {
      "text/plain": [
       "0.003589973716263863"
      ]
     },
     "execution_count": 94,
     "metadata": {},
     "output_type": "execute_result"
    }
   ],
   "source": [
    "recall_score(bike_labels, y_train_pred_90)"
   ]
  },
  {
   "cell_type": "code",
   "execution_count": 95,
   "metadata": {},
   "outputs": [
    {
     "data": {
      "image/png": "[encoded data removed]",
      "text/plain": [
       "<matplotlib.figure.Figure at 0x1147bd828>"
      ]
     },
     "metadata": {},
     "output_type": "display_data"
    }
   ],
   "source": [
    "def plot_precision_vs_recall(precisions, recalls):\n",
    "    plt.plot(recalls, precisions, \"b-\", linewidth=2)\n",
    "    plt.xlabel(\"Recall\", fontsize=16)\n",
    "    plt.ylabel(\"Precision\", fontsize=16)\n",
    "    plt.axis([0, 1, 0, 1])\n",
    "\n",
    "plt.figure(figsize=(8, 6))\n",
    "plot_precision_vs_recall(precisions, recalls)\n",
    "plt.show()"
   ]
  },
  {
   "cell_type": "markdown",
   "metadata": {},
   "source": [
    "## ROC Curves"
   ]
  },
  {
   "cell_type": "code",
   "execution_count": 96,
   "metadata": {
    "collapsed": true
   },
   "outputs": [],
   "source": [
    "from sklearn.metrics import roc_curve\n",
    "\n",
    "fpr, tpr, thresholds = roc_curve(bike_labels, y_scores)"
   ]
  },
  {
   "cell_type": "code",
   "execution_count": 97,
   "metadata": {},
   "outputs": [
    {
     "data": {
      "image/png": "[encoded data removed]",
      "text/plain": [
       "<matplotlib.figure.Figure at 0x1147b2470>"
      ]
     },
     "metadata": {},
     "output_type": "display_data"
    }
   ],
   "source": [
    "def plot_roc_curve(fpr, tpr, label=None):\n",
    "    plt.plot(fpr, tpr, linewidth=2, label=label)\n",
    "    plt.plot([0, 1], [0, 1], 'k--')\n",
    "    plt.axis([0, 1, 0, 1])\n",
    "    plt.xlabel('False Positive Rate', fontsize=16)\n",
    "    plt.ylabel('True Positive Rate', fontsize=16)\n",
    "\n",
    "plt.figure(figsize=(8, 6))\n",
    "plot_roc_curve(fpr, tpr)\n",
    "plt.show()"
   ]
  },
  {
   "cell_type": "code",
   "execution_count": 98,
   "metadata": {},
   "outputs": [
    {
     "data": {
      "text/plain": [
       "0.5062339098790063"
      ]
     },
     "execution_count": 98,
     "metadata": {},
     "output_type": "execute_result"
    }
   ],
   "source": [
    "from sklearn.metrics import roc_auc_score\n",
    "\n",
    "roc_auc_score(bike_labels, y_scores)"
   ]
  },
  {
   "cell_type": "code",
   "execution_count": 99,
   "metadata": {
    "collapsed": true
   },
   "outputs": [],
   "source": [
    "from sklearn.ensemble import RandomForestClassifier\n",
    "forest_clf = RandomForestClassifier(random_state=42)\n",
    "y_probas_forest = cross_val_predict(forest_clf, bike_prepared, bike_labels, cv=5,\n",
    "                                    method=\"predict_proba\")"
   ]
  },
  {
   "cell_type": "code",
   "execution_count": 100,
   "metadata": {},
   "outputs": [
    {
     "data": {
      "text/plain": [
       "array([[0.4   , 0.6   ],\n",
       "       [0.    , 1.    ],\n",
       "       [0.3123, 0.6877],\n",
       "       ...,\n",
       "       [0.393 , 0.607 ],\n",
       "       [0.4271, 0.5729],\n",
       "       [0.4694, 0.5306]])"
      ]
     },
     "execution_count": 100,
     "metadata": {},
     "output_type": "execute_result"
    }
   ],
   "source": [
    "y_probas_forest"
   ]
  },
  {
   "cell_type": "code",
   "execution_count": 101,
   "metadata": {
    "collapsed": true
   },
   "outputs": [],
   "source": [
    "y_scores_forest = y_probas_forest[:, 1] # score = proba of positive class\n",
    "fpr_forest, tpr_forest, thresholds_forest = roc_curve(bike_labels,y_scores_forest)"
   ]
  },
  {
   "cell_type": "code",
   "execution_count": 102,
   "metadata": {},
   "outputs": [
    {
     "data": {
      "image/png": "[encoded data removed]",
      "text/plain": [
       "<matplotlib.figure.Figure at 0x114693828>"
      ]
     },
     "metadata": {},
     "output_type": "display_data"
    }
   ],
   "source": [
    "plt.figure(figsize=(8, 6))\n",
    "plt.plot(fpr, tpr, \"b:\", linewidth=2, label=\"SGD\")\n",
    "plot_roc_curve(fpr_forest, tpr_forest, \"Random Forest\")\n",
    "plt.legend(loc=\"lower right\", fontsize=16)\n",
    "plt.show()"
   ]
  },
  {
   "cell_type": "code",
   "execution_count": 103,
   "metadata": {},
   "outputs": [
    {
     "data": {
      "text/plain": [
       "0.5851962771662291"
      ]
     },
     "execution_count": 103,
     "metadata": {},
     "output_type": "execute_result"
    }
   ],
   "source": [
    "roc_auc_score(bike_labels, y_scores_forest)"
   ]
  },
  {
   "cell_type": "code",
   "execution_count": 104,
   "metadata": {},
   "outputs": [
    {
     "data": {
      "text/plain": [
       "0.6350988397077783"
      ]
     },
     "execution_count": 104,
     "metadata": {},
     "output_type": "execute_result"
    }
   ],
   "source": [
    "y_train_pred_forest = cross_val_predict(forest_clf, bike_prepared, bike_labels, cv=5)\n",
    "precision_score(bike_labels, y_train_pred_forest)"
   ]
  },
  {
   "cell_type": "code",
   "execution_count": 105,
   "metadata": {},
   "outputs": [
    {
     "data": {
      "text/plain": [
       "0.7579332008462081"
      ]
     },
     "execution_count": 105,
     "metadata": {},
     "output_type": "execute_result"
    }
   ],
   "source": [
    "recall_score(bike_labels, y_train_pred_forest)"
   ]
  },
  {
   "cell_type": "code",
   "execution_count": 106,
   "metadata": {},
   "outputs": [
    {
     "data": {
      "text/plain": [
       "0.6911003945637879"
      ]
     },
     "execution_count": 106,
     "metadata": {},
     "output_type": "execute_result"
    }
   ],
   "source": [
    "f1_score(bike_labels, y_train_pred_forest)"
   ]
  },
  {
   "cell_type": "code",
   "execution_count": 107,
   "metadata": {},
   "outputs": [
    {
     "name": "stdout",
     "output_type": "stream",
     "text": [
      "True Positives  (TP):  11823\n",
      "False Positives (FP):  6793\n",
      "True Negatives  (TN):  3670\n",
      "False Negatives (FN):  3776\n"
     ]
    }
   ],
   "source": [
    "tn, fp, fn, tp = confusion_matrix(bike_labels, y_train_pred_forest).ravel()\n",
    "print(\"True Positives  (TP): \", tp)\n",
    "print(\"False Positives (FP): \", fp)\n",
    "print(\"True Negatives  (TN): \", tn)\n",
    "print(\"False Negatives (FN): \", fn)"
   ]
  },
  {
   "cell_type": "code",
   "execution_count": 108,
   "metadata": {
    "collapsed": true
   },
   "outputs": [],
   "source": [
    "from sklearn.tree import DecisionTreeClassifier\n",
    "\n",
    "tree_clf = DecisionTreeClassifier(random_state=42)\n",
    "tree_clf.fit(bike_prepared, bike_labels)\n",
    "y_probas_tree = cross_val_predict(tree_clf, bike_prepared, bike_labels, cv=5,\n",
    "                                    method=\"predict_proba\")"
   ]
  },
  {
   "cell_type": "code",
   "execution_count": 109,
   "metadata": {
    "collapsed": true
   },
   "outputs": [],
   "source": [
    "y_scores_tree = y_probas_tree[:, 1] # score = proba of positive class\n",
    "fpr_tree, tpr_tree, thresholds_tree = roc_curve(bike_labels,y_scores_tree)"
   ]
  },
  {
   "cell_type": "code",
   "execution_count": 110,
   "metadata": {},
   "outputs": [
    {
     "data": {
      "text/plain": [
       "0.5720352163084338"
      ]
     },
     "execution_count": 110,
     "metadata": {},
     "output_type": "execute_result"
    }
   ],
   "source": [
    "roc_auc_score(bike_labels, y_scores_tree)"
   ]
  },
  {
   "cell_type": "code",
   "execution_count": 111,
   "metadata": {},
   "outputs": [
    {
     "data": {
      "image/png": "[encoded data removed]",
      "text/plain": [
       "<matplotlib.figure.Figure at 0x1145a9278>"
      ]
     },
     "metadata": {},
     "output_type": "display_data"
    }
   ],
   "source": [
    "plt.figure(figsize=(8, 6))\n",
    "plt.plot(fpr, tpr, \"b:\", linewidth=2, label=\"SGD\")\n",
    "plot_roc_curve(fpr_forest, tpr_forest, \"Random Forest\")\n",
    "plot_roc_curve(fpr_tree, tpr_tree, \"Decision Tree\")\n",
    "plt.legend(loc=\"lower right\", fontsize=16)\n",
    "plt.show()"
   ]
  },
  {
   "cell_type": "code",
   "execution_count": 112,
   "metadata": {
    "collapsed": true
   },
   "outputs": [],
   "source": [
    "from sklearn.neighbors import KNeighborsClassifier\n",
    "\n",
    "knn_clf = KNeighborsClassifier()\n",
    "knn_clf.fit(bike_prepared, bike_labels)\n",
    "y_probas_knn = cross_val_predict(knn_clf, bike_prepared, bike_labels, cv=5,\n",
    "                                    method=\"predict_proba\")"
   ]
  },
  {
   "cell_type": "code",
   "execution_count": 113,
   "metadata": {
    "collapsed": true
   },
   "outputs": [],
   "source": [
    "y_probas_knn = y_probas_knn[:, 1] # score = proba of positive class\n",
    "fpr_knn, tpr_knn, thresholds_knn = roc_curve(bike_labels,y_probas_knn)"
   ]
  },
  {
   "cell_type": "code",
   "execution_count": 114,
   "metadata": {},
   "outputs": [
    {
     "data": {
      "text/plain": [
       "0.5672719734415664"
      ]
     },
     "execution_count": 114,
     "metadata": {},
     "output_type": "execute_result"
    }
   ],
   "source": [
    "roc_auc_score(bike_labels, y_probas_knn)"
   ]
  },
  {
   "cell_type": "code",
   "execution_count": 115,
   "metadata": {},
   "outputs": [
    {
     "data": {
      "image/png": "[encoded data removed]",
      "text/plain": [
       "<matplotlib.figure.Figure at 0x1145d8a20>"
      ]
     },
     "metadata": {},
     "output_type": "display_data"
    }
   ],
   "source": [
    "plt.figure(figsize=(8, 6))\n",
    "plt.plot(fpr, tpr, \"b:\", linewidth=2, label=\"SGD\")\n",
    "plot_roc_curve(fpr_forest, tpr_forest, \"Random Forest\")\n",
    "plot_roc_curve(fpr_tree, tpr_tree, \"Decision Tree\")\n",
    "plot_roc_curve(fpr_knn, tpr_knn, \"KNN\")\n",
    "plt.legend(loc=\"lower right\", fontsize=16)\n",
    "plt.show()"
   ]
  },
  {
   "cell_type": "markdown",
   "metadata": {},
   "source": [
    "- SGM <br>\n",
    "ROC AUC Score :0.5062339098790063<br>\n",
    "\n",
    "\n",
    "- Random Forest Classifier<br>\n",
    "**ROC AUC Score: 0.5851962771662291**<br>\n",
    "Precision score:0.6350988397077783<br>\n",
    "Recall Score:0.7579332008462081<br>\n",
    "f1 score: 0.6911003945637879<br>\n",
    "True Positives  (TP):  11823\n",
    "False Positives (FP):  6793\n",
    "True Negatives  (TN):  3670\n",
    "False Negatives (FN):  3776\n",
    "\n",
    "\n",
    "- Decision Tree Classifier<br>\n",
    "ROC AUC Score:0.5720352163084338\n",
    "\n",
    "\n",
    "- KNeighbors Classifier<br>\n",
    "ROC AUC Score: 0.5672719734415664"
   ]
  },
  {
   "cell_type": "markdown",
   "metadata": {},
   "source": [
    "# Fine-tuning model"
   ]
  },
  {
   "cell_type": "code",
   "execution_count": 116,
   "metadata": {},
   "outputs": [
    {
     "name": "stdout",
     "output_type": "stream",
     "text": [
      "Fitting 5 folds for each of 6 candidates, totalling 30 fits\n",
      "[CV] n_neighbors=3, weights=uniform ..................................\n",
      "[CV]  n_neighbors=3, weights=uniform, score=0.5526568194897372, total=   0.5s\n",
      "[CV] n_neighbors=3, weights=uniform ..................................\n"
     ]
    },
    {
     "name": "stderr",
     "output_type": "stream",
     "text": [
      "[Parallel(n_jobs=1)]: Done   1 out of   1 | elapsed:    1.0s remaining:    0.0s\n"
     ]
    },
    {
     "name": "stdout",
     "output_type": "stream",
     "text": [
      "[CV]  n_neighbors=3, weights=uniform, score=0.5766353347400729, total=   0.5s\n",
      "[CV] n_neighbors=3, weights=uniform ..................................\n"
     ]
    },
    {
     "name": "stderr",
     "output_type": "stream",
     "text": [
      "[Parallel(n_jobs=1)]: Done   2 out of   2 | elapsed:    2.2s remaining:    0.0s\n"
     ]
    },
    {
     "name": "stdout",
     "output_type": "stream",
     "text": [
      "[CV]  n_neighbors=3, weights=uniform, score=0.58143103779014, total=   0.5s\n",
      "[CV] n_neighbors=3, weights=uniform ..................................\n",
      "[CV]  n_neighbors=3, weights=uniform, score=0.554489639293937, total=   0.5s\n",
      "[CV] n_neighbors=3, weights=uniform ..................................\n",
      "[CV]  n_neighbors=3, weights=uniform, score=0.5613126079447323, total=   0.5s\n",
      "[CV] n_neighbors=3, weights=distance .................................\n",
      "[CV]  n_neighbors=3, weights=distance, score=0.5480529445616728, total=   0.5s\n",
      "[CV] n_neighbors=3, weights=distance .................................\n",
      "[CV]  n_neighbors=3, weights=distance, score=0.5722232879340111, total=   0.5s\n",
      "[CV] n_neighbors=3, weights=distance .................................\n",
      "[CV]  n_neighbors=3, weights=distance, score=0.5800882409361212, total=   0.5s\n",
      "[CV] n_neighbors=3, weights=distance .................................\n",
      "[CV]  n_neighbors=3, weights=distance, score=0.5514198004604758, total=   0.5s\n",
      "[CV] n_neighbors=3, weights=distance .................................\n",
      "[CV]  n_neighbors=3, weights=distance, score=0.5597773939742852, total=   0.5s\n",
      "[CV] n_neighbors=4, weights=uniform ..................................\n",
      "[CV]  n_neighbors=4, weights=uniform, score=0.5304047573374256, total=   0.5s\n",
      "[CV] n_neighbors=4, weights=uniform ..................................\n",
      "[CV]  n_neighbors=4, weights=uniform, score=0.5401879915595627, total=   0.5s\n",
      "[CV] n_neighbors=4, weights=uniform ..................................\n",
      "[CV]  n_neighbors=4, weights=uniform, score=0.5589871475158258, total=   0.5s\n",
      "[CV] n_neighbors=4, weights=uniform ..................................\n",
      "[CV]  n_neighbors=4, weights=uniform, score=0.5264773599386032, total=   0.5s\n",
      "[CV] n_neighbors=4, weights=uniform ..................................\n",
      "[CV]  n_neighbors=4, weights=uniform, score=0.5308002302820956, total=   0.5s\n",
      "[CV] n_neighbors=4, weights=distance .................................\n",
      "[CV]  n_neighbors=4, weights=distance, score=0.5422981009015921, total=   0.5s\n",
      "[CV] n_neighbors=4, weights=distance .................................\n",
      "[CV]  n_neighbors=4, weights=distance, score=0.5584116631498177, total=   0.5s\n",
      "[CV] n_neighbors=4, weights=distance .................................\n",
      "[CV]  n_neighbors=4, weights=distance, score=0.5664684442739305, total=   0.5s\n",
      "[CV] n_neighbors=4, weights=distance .................................\n",
      "[CV]  n_neighbors=4, weights=distance, score=0.5335763622409824, total=   0.5s\n",
      "[CV] n_neighbors=4, weights=distance .................................\n",
      "[CV]  n_neighbors=4, weights=distance, score=0.5450009595087315, total=   0.5s\n",
      "[CV] n_neighbors=5, weights=uniform ..................................\n",
      "[CV]  n_neighbors=5, weights=uniform, score=0.5766353347400729, total=   0.5s\n",
      "[CV] n_neighbors=5, weights=uniform ..................................\n",
      "[CV]  n_neighbors=5, weights=uniform, score=0.5804718971801266, total=   0.5s\n",
      "[CV] n_neighbors=5, weights=uniform ..................................\n",
      "[CV]  n_neighbors=5, weights=uniform, score=0.5816228659121427, total=   0.5s\n",
      "[CV] n_neighbors=5, weights=uniform ..................................\n",
      "[CV]  n_neighbors=5, weights=uniform, score=0.5734842670759785, total=   0.5s\n",
      "[CV] n_neighbors=5, weights=uniform ..................................\n",
      "[CV]  n_neighbors=5, weights=uniform, score=0.57589714066398, total=   0.5s\n",
      "[CV] n_neighbors=5, weights=distance .................................\n",
      "[CV]  n_neighbors=5, weights=distance, score=0.5703050067139843, total=   0.5s\n",
      "[CV] n_neighbors=5, weights=distance .................................\n",
      "[CV]  n_neighbors=5, weights=distance, score=0.5774026472280837, total=   0.5s\n",
      "[CV] n_neighbors=5, weights=distance .................................\n",
      "[CV]  n_neighbors=5, weights=distance, score=0.5775944753500863, total=   0.5s\n",
      "[CV] n_neighbors=5, weights=distance .................................\n",
      "[CV]  n_neighbors=5, weights=distance, score=0.5686876438986953, total=   0.5s\n",
      "[CV] n_neighbors=5, weights=distance .................................\n",
      "[CV]  n_neighbors=5, weights=distance, score=0.5707157935137209, total=   0.5s\n"
     ]
    },
    {
     "name": "stderr",
     "output_type": "stream",
     "text": [
      "[Parallel(n_jobs=1)]: Done  30 out of  30 | elapsed:   33.5s finished\n"
     ]
    },
    {
     "data": {
      "text/plain": [
       "GridSearchCV(cv=5, error_score='raise',\n",
       "       estimator=KNeighborsClassifier(algorithm='auto', leaf_size=30, metric='minkowski',\n",
       "           metric_params=None, n_jobs=1, n_neighbors=5, p=2,\n",
       "           weights='uniform'),\n",
       "       fit_params=None, iid=True, n_jobs=1,\n",
       "       param_grid=[{'weights': ['uniform', 'distance'], 'n_neighbors': [3, 4, 5]}],\n",
       "       pre_dispatch='2*n_jobs', refit=True, return_train_score='warn',\n",
       "       scoring=None, verbose=3)"
      ]
     },
     "execution_count": 116,
     "metadata": {},
     "output_type": "execute_result"
    }
   ],
   "source": [
    "from sklearn.model_selection import GridSearchCV\n",
    "from sklearn.neighbors import KNeighborsClassifier\n",
    "\n",
    "param_grid = [{'weights': [\"uniform\", \"distance\"], 'n_neighbors': [3, 4, 5]}]\n",
    "\n",
    "knn_clf = KNeighborsClassifier()\n",
    "grid_search_knn = GridSearchCV(knn_clf, param_grid, cv=5, verbose=3)\n",
    "grid_search_knn.fit(bike_prepared, bike_labels)"
   ]
  },
  {
   "cell_type": "code",
   "execution_count": 117,
   "metadata": {},
   "outputs": [
    {
     "data": {
      "text/plain": [
       "{'n_neighbors': 5, 'weights': 'uniform'}"
      ]
     },
     "execution_count": 117,
     "metadata": {},
     "output_type": "execute_result"
    }
   ],
   "source": [
    "grid_search_knn.best_params_"
   ]
  },
  {
   "cell_type": "code",
   "execution_count": 118,
   "metadata": {},
   "outputs": [
    {
     "data": {
      "text/plain": [
       "0.5776225922799478"
      ]
     },
     "execution_count": 118,
     "metadata": {},
     "output_type": "execute_result"
    }
   ],
   "source": [
    "grid_search_knn.best_score_"
   ]
  },
  {
   "cell_type": "code",
   "execution_count": 119,
   "metadata": {},
   "outputs": [
    {
     "name": "stdout",
     "output_type": "stream",
     "text": [
      "Fitting 5 folds for each of 2 candidates, totalling 10 fits\n",
      "[CV] max_features=sqrt ...............................................\n",
      "[CV] ...... max_features=sqrt, score=0.6000383656244005, total=   0.1s\n",
      "[CV] max_features=sqrt ...............................................\n"
     ]
    },
    {
     "name": "stderr",
     "output_type": "stream",
     "text": [
      "[Parallel(n_jobs=1)]: Done   1 out of   1 | elapsed:    0.2s remaining:    0.0s\n",
      "[Parallel(n_jobs=1)]: Done   2 out of   2 | elapsed:    0.3s remaining:    0.0s\n"
     ]
    },
    {
     "name": "stdout",
     "output_type": "stream",
     "text": [
      "[CV] ...... max_features=sqrt, score=0.5992710531363898, total=   0.1s\n",
      "[CV] max_features=sqrt ...............................................\n",
      "[CV] ...... max_features=sqrt, score=0.5986955687703818, total=   0.1s\n",
      "[CV] max_features=sqrt ...............................................\n",
      "[CV] ...... max_features=sqrt, score=0.5848042977743668, total=   0.1s\n",
      "[CV] max_features=sqrt ...............................................\n",
      "[CV] ...... max_features=sqrt, score=0.5948954135482633, total=   0.1s\n",
      "[CV] max_features=log2 ...............................................\n",
      "[CV] ........ max_features=log2, score=0.59428352196432, total=   0.1s\n",
      "[CV] max_features=log2 ...............................................\n",
      "[CV] ...... max_features=log2, score=0.6011893343564166, total=   0.1s\n",
      "[CV] max_features=log2 ...............................................\n",
      "[CV] ....... max_features=log2, score=0.601572990600422, total=   0.1s\n",
      "[CV] max_features=log2 ...............................................\n",
      "[CV] ...... max_features=log2, score=0.5882578664620107, total=   0.1s\n",
      "[CV] max_features=log2 ...............................................\n",
      "[CV] ...... max_features=log2, score=0.5983496449817693, total=   0.1s\n"
     ]
    },
    {
     "name": "stderr",
     "output_type": "stream",
     "text": [
      "[Parallel(n_jobs=1)]: Done  10 out of  10 | elapsed:    1.7s finished\n"
     ]
    },
    {
     "data": {
      "text/plain": [
       "GridSearchCV(cv=5, error_score='raise',\n",
       "       estimator=RandomForestClassifier(bootstrap=True, class_weight=None, criterion='gini',\n",
       "            max_depth=None, max_features='auto', max_leaf_nodes=None,\n",
       "            min_impurity_decrease=0.0, min_impurity_split=None,\n",
       "            min_samples_leaf=1, min_samples_split=2,\n",
       "            min_weight_fraction_leaf=0.0, n_estimators=10, n_jobs=1,\n",
       "            oob_score=False, random_state=None, verbose=0,\n",
       "            warm_start=False),\n",
       "       fit_params=None, iid=True, n_jobs=1,\n",
       "       param_grid=[{'max_features': ['sqrt', 'log2']}],\n",
       "       pre_dispatch='2*n_jobs', refit=True, return_train_score='warn',\n",
       "       scoring=None, verbose=3)"
      ]
     },
     "execution_count": 119,
     "metadata": {},
     "output_type": "execute_result"
    }
   ],
   "source": [
    "from sklearn.model_selection import GridSearchCV\n",
    "from sklearn.ensemble import RandomForestClassifier\n",
    "\n",
    "param_grid = [{'max_features': ['sqrt', 'log2']}]\n",
    "\n",
    "forest_clf = RandomForestClassifier()\n",
    "grid_search_forest = GridSearchCV(forest_clf, param_grid, cv=5, verbose=3)\n",
    "grid_search_forest.fit(bike_prepared, bike_labels)"
   ]
  },
  {
   "cell_type": "code",
   "execution_count": 120,
   "metadata": {},
   "outputs": [
    {
     "data": {
      "text/plain": [
       "{'max_features': 'log2'}"
      ]
     },
     "execution_count": 120,
     "metadata": {},
     "output_type": "execute_result"
    }
   ],
   "source": [
    "grid_search_forest.best_params_"
   ]
  },
  {
   "cell_type": "code",
   "execution_count": 121,
   "metadata": {},
   "outputs": [
    {
     "data": {
      "text/plain": [
       "0.5967308725347249"
      ]
     },
     "execution_count": 121,
     "metadata": {},
     "output_type": "execute_result"
    }
   ],
   "source": [
    "grid_search_forest.best_score_"
   ]
  },
  {
   "cell_type": "code",
   "execution_count": 122,
   "metadata": {},
   "outputs": [
    {
     "data": {
      "text/plain": [
       "array([0.0428, 0.406 , 0.0057, 0.2735, 0.1383, 0.0955, 0.0058, 0.0055,\n",
       "       0.0081, 0.0105, 0.0083])"
      ]
     },
     "execution_count": 122,
     "metadata": {},
     "output_type": "execute_result"
    }
   ],
   "source": [
    "feature_importances_forest = grid_search_forest.best_estimator_.feature_importances_\n",
    "feature_importances_forest"
   ]
  },
  {
   "cell_type": "code",
   "execution_count": 123,
   "metadata": {},
   "outputs": [
    {
     "data": {
      "text/plain": [
       "[(0.406041716087429, 'Number_of_Participants'),\n",
       " (0.273456536637423, 'Previous_Event_Confirmed_Gifts'),\n",
       " (0.13829967147461988, 'Previous_Event_Team_Members'),\n",
       " (0.09546170502296772, 'Fiscal_Year'),\n",
       " (0.0427781062307485, 'Company'),\n",
       " (0.010451364728493517, 'Friends and Family'),\n",
       " (0.00829837381738914, 'Other'),\n",
       " (0.008124525400512112, 'Corporate'),\n",
       " (0.005849079065734326, 'false'),\n",
       " (0.005696430853002315, 'Previous_Event_Fiscal_Year'),\n",
       " (0.005542490681680489, 'true')]"
      ]
     },
     "execution_count": 123,
     "metadata": {},
     "output_type": "execute_result"
    }
   ],
   "source": [
    "cat_encoder = cat_pipeline.named_steps[\"cat_encoder\"]\n",
    "cat_list = list(cat_encoder.categories_[0])\n",
    "cat_list.extend(list(cat_encoder.categories_[1]))\n",
    "attributes = num_attribs + cat_list\n",
    "sorted(zip(feature_importances_forest, attributes), reverse=True)"
   ]
  },
  {
   "cell_type": "markdown",
   "metadata": {},
   "source": [
    "-  KNeighborsClassifier<br>\n",
    "Best Parameter N_neighbors = 5<br>\n",
    "Best Score: 0.5776225922799478\n",
    "\n",
    "\n",
    "-  Random Forest Classifier<br>\n",
    "Max_Features: Log 2<br>\n",
    "**Best Score: 0.5967308725347249**<br> \n",
    "0.40604171608742 :Number_of_Participants<br>\n",
    "0.273456536637423: Previous_Event_Confirmed_Gifts<br>\n",
    "0.13829967147461988: Previous_Event_Team_Members<br>"
   ]
  },
  {
   "cell_type": "markdown",
   "metadata": {},
   "source": [
    "# Ensemble Models"
   ]
  },
  {
   "cell_type": "markdown",
   "metadata": {},
   "source": [
    "## Voting Classifiers"
   ]
  },
  {
   "cell_type": "code",
   "execution_count": 124,
   "metadata": {},
   "outputs": [
    {
     "data": {
      "text/plain": [
       "VotingClassifier(estimators=[('lr', LogisticRegression(C=1.0, class_weight=None, dual=False, fit_intercept=True,\n",
       "          intercept_scaling=1, max_iter=100, multi_class='ovr', n_jobs=1,\n",
       "          penalty='l2', random_state=42, solver='liblinear', tol=0.0001,\n",
       "          verbose=0, warm_start=False)), ('rf', RandomFor...wski',\n",
       "           metric_params=None, n_jobs=1, n_neighbors=5, p=2,\n",
       "           weights='distance'))],\n",
       "         flatten_transform=None, n_jobs=1, voting='hard', weights=None)"
      ]
     },
     "execution_count": 124,
     "metadata": {},
     "output_type": "execute_result"
    }
   ],
   "source": [
    "from sklearn.ensemble import RandomForestClassifier\n",
    "from sklearn.ensemble import VotingClassifier\n",
    "from sklearn.linear_model import LogisticRegression\n",
    "from sklearn.svm import SVC\n",
    "from sklearn.neighbors import KNeighborsClassifier\n",
    "\n",
    "log_clf = LogisticRegression(random_state=42)\n",
    "rnd_clf = RandomForestClassifier(random_state=42, max_features='log2')\n",
    "svm_clf = SVC(random_state=42)\n",
    "knn_clf = KNeighborsClassifier(n_neighbors=5, weights='distance')\n",
    "\n",
    "voting_clf = VotingClassifier(\n",
    "    estimators=[('lr', log_clf), ('rf', rnd_clf), ('svc', svm_clf), ('knn', knn_clf)],\n",
    "    voting='hard')\n",
    "voting_clf.fit(bike_prepared, bike_labels)"
   ]
  },
  {
   "cell_type": "code",
   "execution_count": 125,
   "metadata": {},
   "outputs": [
    {
     "name": "stderr",
     "output_type": "stream",
     "text": [
      "/usr/local/Cellar/python3/3.6.4_2/Frameworks/Python.framework/Versions/3.6/lib/python3.6/site-packages/sklearn/preprocessing/label.py:151: DeprecationWarning: The truth value of an empty array is ambiguous. Returning False, but in future this will result in an error. Use `array.size > 0` to check that an array is not empty.\n",
      "  if diff:\n",
      "/usr/local/Cellar/python3/3.6.4_2/Frameworks/Python.framework/Versions/3.6/lib/python3.6/site-packages/sklearn/preprocessing/label.py:151: DeprecationWarning: The truth value of an empty array is ambiguous. Returning False, but in future this will result in an error. Use `array.size > 0` to check that an array is not empty.\n",
      "  if diff:\n",
      "/usr/local/Cellar/python3/3.6.4_2/Frameworks/Python.framework/Versions/3.6/lib/python3.6/site-packages/sklearn/preprocessing/label.py:151: DeprecationWarning: The truth value of an empty array is ambiguous. Returning False, but in future this will result in an error. Use `array.size > 0` to check that an array is not empty.\n",
      "  if diff:\n",
      "/usr/local/Cellar/python3/3.6.4_2/Frameworks/Python.framework/Versions/3.6/lib/python3.6/site-packages/sklearn/preprocessing/label.py:151: DeprecationWarning: The truth value of an empty array is ambiguous. Returning False, but in future this will result in an error. Use `array.size > 0` to check that an array is not empty.\n",
      "  if diff:\n",
      "/usr/local/Cellar/python3/3.6.4_2/Frameworks/Python.framework/Versions/3.6/lib/python3.6/site-packages/sklearn/preprocessing/label.py:151: DeprecationWarning: The truth value of an empty array is ambiguous. Returning False, but in future this will result in an error. Use `array.size > 0` to check that an array is not empty.\n",
      "  if diff:\n"
     ]
    },
    {
     "data": {
      "text/plain": [
       "array([0.5995, 0.6156, 0.602 , 0.5963, 0.6049])"
      ]
     },
     "execution_count": 125,
     "metadata": {},
     "output_type": "execute_result"
    }
   ],
   "source": [
    "from sklearn.model_selection import cross_val_score\n",
    "\n",
    "cross_val_score(voting_clf, bike_prepared, bike_labels, cv=5, scoring=\"accuracy\")"
   ]
  },
  {
   "cell_type": "code",
   "execution_count": 126,
   "metadata": {},
   "outputs": [
    {
     "data": {
      "text/plain": [
       "VotingClassifier(estimators=[('lr', LogisticRegression(C=1.0, class_weight=None, dual=False, fit_intercept=True,\n",
       "          intercept_scaling=1, max_iter=100, multi_class='ovr', n_jobs=1,\n",
       "          penalty='l2', random_state=42, solver='liblinear', tol=0.0001,\n",
       "          verbose=0, warm_start=False)), ('rf', RandomFor...wski',\n",
       "           metric_params=None, n_jobs=1, n_neighbors=5, p=2,\n",
       "           weights='distance'))],\n",
       "         flatten_transform=None, n_jobs=1, voting='soft', weights=None)"
      ]
     },
     "execution_count": 126,
     "metadata": {},
     "output_type": "execute_result"
    }
   ],
   "source": [
    "from sklearn.ensemble import RandomForestClassifier\n",
    "from sklearn.ensemble import VotingClassifier\n",
    "from sklearn.linear_model import LogisticRegression\n",
    "from sklearn.svm import SVC\n",
    "from sklearn.neighbors import KNeighborsClassifier\n",
    "\n",
    "log_clf = LogisticRegression(random_state=42)\n",
    "rnd_clf = RandomForestClassifier(random_state=42)\n",
    "svm_clf = SVC(probability=True, random_state=42)\n",
    "knn_clf = KNeighborsClassifier(n_neighbors=5, weights='distance')\n",
    "\n",
    "voting_clf_soft = VotingClassifier(\n",
    "    estimators=[('lr', log_clf), ('rf', rnd_clf), ('svc', svm_clf), ('knn', knn_clf)],\n",
    "    voting='soft')\n",
    "voting_clf_soft.fit(bike_prepared, bike_labels)"
   ]
  },
  {
   "cell_type": "code",
   "execution_count": 127,
   "metadata": {},
   "outputs": [
    {
     "name": "stderr",
     "output_type": "stream",
     "text": [
      "/usr/local/Cellar/python3/3.6.4_2/Frameworks/Python.framework/Versions/3.6/lib/python3.6/site-packages/sklearn/preprocessing/label.py:151: DeprecationWarning: The truth value of an empty array is ambiguous. Returning False, but in future this will result in an error. Use `array.size > 0` to check that an array is not empty.\n",
      "  if diff:\n",
      "/usr/local/Cellar/python3/3.6.4_2/Frameworks/Python.framework/Versions/3.6/lib/python3.6/site-packages/sklearn/preprocessing/label.py:151: DeprecationWarning: The truth value of an empty array is ambiguous. Returning False, but in future this will result in an error. Use `array.size > 0` to check that an array is not empty.\n",
      "  if diff:\n",
      "/usr/local/Cellar/python3/3.6.4_2/Frameworks/Python.framework/Versions/3.6/lib/python3.6/site-packages/sklearn/preprocessing/label.py:151: DeprecationWarning: The truth value of an empty array is ambiguous. Returning False, but in future this will result in an error. Use `array.size > 0` to check that an array is not empty.\n",
      "  if diff:\n",
      "/usr/local/Cellar/python3/3.6.4_2/Frameworks/Python.framework/Versions/3.6/lib/python3.6/site-packages/sklearn/preprocessing/label.py:151: DeprecationWarning: The truth value of an empty array is ambiguous. Returning False, but in future this will result in an error. Use `array.size > 0` to check that an array is not empty.\n",
      "  if diff:\n",
      "/usr/local/Cellar/python3/3.6.4_2/Frameworks/Python.framework/Versions/3.6/lib/python3.6/site-packages/sklearn/preprocessing/label.py:151: DeprecationWarning: The truth value of an empty array is ambiguous. Returning False, but in future this will result in an error. Use `array.size > 0` to check that an array is not empty.\n",
      "  if diff:\n"
     ]
    },
    {
     "data": {
      "text/plain": [
       "array([0.6068, 0.6211, 0.6058, 0.6055, 0.6143])"
      ]
     },
     "execution_count": 127,
     "metadata": {},
     "output_type": "execute_result"
    }
   ],
   "source": [
    "from sklearn.model_selection import cross_val_score\n",
    "\n",
    "cross_val_score(voting_clf_soft, bike_prepared, bike_labels, cv=5, scoring=\"accuracy\")"
   ]
  },
  {
   "cell_type": "markdown",
   "metadata": {},
   "source": [
    "LogisticRegression<br>\n",
    "RandomForestClassifier: Max_features log2<br>\n",
    "SVC<br>\n",
    "KNeighborsClassifier : n_neighbors = 5, weight = distance<br>\n",
    "voting_clf = VotingClassifier(\n",
    "    estimators=[('lr', log_clf), ('rf', rnd_clf), ('svc', svm_clf), ('knn', knn_clf)],\n",
    "    voting=**'hard'**)<br>\n",
    "5 fold CV Accuracy<br>\n",
    "0.5995, 0.6156, 0.602 , 0.5963, 0.6049<br>\n",
    "\n",
    "\n",
    "LogisticRegression<br>\n",
    "RandomForestClassifier: Max_features log2<br>\n",
    "SVC<br>\n",
    "KNeighborsClassifier : n_neighbors = 5, weight = distance<br>\n",
    "voting_clf_soft = VotingClassifier(\n",
    "    estimators=[('lr', log_clf), ('rf', rnd_clf), ('svc', svm_clf), ('knn', knn_clf)],\n",
    "    voting=**'soft'**)<br>\n",
    "**5 fold CV Accuracy<br>\n",
    "0.6068, 0.6211, 0.6058, 0.6055, 0.6143**"
   ]
  },
  {
   "cell_type": "markdown",
   "metadata": {},
   "source": [
    "## Bagging and Pasting"
   ]
  },
  {
   "cell_type": "code",
   "execution_count": 128,
   "metadata": {},
   "outputs": [
    {
     "data": {
      "text/plain": [
       "BaggingClassifier(base_estimator=DecisionTreeClassifier(class_weight=None, criterion='gini', max_depth=None,\n",
       "            max_features=None, max_leaf_nodes=None,\n",
       "            min_impurity_decrease=0.0, min_impurity_split=None,\n",
       "            min_samples_leaf=1, min_samples_split=2,\n",
       "            min_weight_fraction_leaf=0.0, presort=False, random_state=42,\n",
       "            splitter='best'),\n",
       "         bootstrap=True, bootstrap_features=False, max_features=1.0,\n",
       "         max_samples=100, n_estimators=500, n_jobs=-1, oob_score=False,\n",
       "         random_state=42, verbose=0, warm_start=False)"
      ]
     },
     "execution_count": 128,
     "metadata": {},
     "output_type": "execute_result"
    }
   ],
   "source": [
    "from sklearn.ensemble import BaggingClassifier\n",
    "from sklearn.tree import DecisionTreeClassifier\n",
    "\n",
    "bag_clf = BaggingClassifier(\n",
    "    DecisionTreeClassifier(random_state=42), n_estimators=500,\n",
    "    max_samples=100, bootstrap=True, n_jobs=-1, random_state=42)\n",
    "\n",
    "bag_clf.fit(bike_prepared, bike_labels)"
   ]
  },
  {
   "cell_type": "code",
   "execution_count": 129,
   "metadata": {},
   "outputs": [
    {
     "data": {
      "text/plain": [
       "array([0.6219, 0.6236, 0.6167, 0.6176, 0.6266])"
      ]
     },
     "execution_count": 129,
     "metadata": {},
     "output_type": "execute_result"
    }
   ],
   "source": [
    "from sklearn.model_selection import cross_val_score\n",
    "\n",
    "cross_val_score(bag_clf, bike_prepared, bike_labels, cv=5, scoring=\"accuracy\")"
   ]
  },
  {
   "cell_type": "code",
   "execution_count": 130,
   "metadata": {},
   "outputs": [
    {
     "data": {
      "text/plain": [
       "array([0.6058, 0.6119, 0.6115, 0.6096, 0.621 ])"
      ]
     },
     "execution_count": 130,
     "metadata": {},
     "output_type": "execute_result"
    }
   ],
   "source": [
    "bag_clf = BaggingClassifier(\n",
    "    DecisionTreeClassifier(splitter=\"random\", max_leaf_nodes=16, random_state=42),\n",
    "    n_estimators=500, max_samples=1.0, bootstrap=True, n_jobs=-1, random_state=42)\n",
    "bag_clf.fit(bike_prepared, bike_labels)\n",
    "\n",
    "cross_val_score(bag_clf, bike_prepared, bike_labels, cv=5, scoring=\"accuracy\")"
   ]
  },
  {
   "cell_type": "code",
   "execution_count": 131,
   "metadata": {},
   "outputs": [
    {
     "data": {
      "text/plain": [
       "array([0.6185, 0.6223, 0.6175, 0.6195, 0.6264])"
      ]
     },
     "execution_count": 131,
     "metadata": {},
     "output_type": "execute_result"
    }
   ],
   "source": [
    "from sklearn.ensemble import RandomForestClassifier\n",
    "\n",
    "rnd_clf = RandomForestClassifier(n_estimators=500, max_leaf_nodes=16, n_jobs=-1, random_state=42)\n",
    "rnd_clf.fit(bike_prepared, bike_labels)\n",
    "\n",
    "cross_val_score(rnd_clf, bike_prepared, bike_labels, cv=5, scoring=\"accuracy\")"
   ]
  },
  {
   "cell_type": "markdown",
   "metadata": {},
   "source": [
    "BaggingClassifier<br>\n",
    "DecisionTreeClassifier<br>\n",
    "\n",
    "max_samples=100<br>\n",
    "**5 fold CV Accuracy<br>\n",
    "0.6219, 0.6236, 0.6167, 0.6176, 0.6266<br>**\n",
    "\n",
    "splitter=\"random\", max_leaf_nodes=16,max_samples=1.0<br>\n",
    "5 fold CV Accuracy<br>\n",
    "0.6058, 0.6119, 0.6115, 0.6096, 0.621<br>\n",
    "\n",
    "RandomForestClassifier<br>\n",
    "5 fold CV Accuracy<br>\n",
    "0.6185, 0.6223, 0.6175, 0.6195, 0.6264"
   ]
  },
  {
   "cell_type": "markdown",
   "metadata": {},
   "source": [
    "## Boosting\n",
    "\n",
    "> **Boosting** (originally called hypothesis boosting) refers to any Ensemble method that can combine several weak learners into a strong learner. The general idea of most boosting methods is to train predictors sequentially, each trying to correct its predecessor.\n",
    "\n",
    "### AdaBoost\n",
    "\n",
    "> To build an AdaBoost classifier, a first base classifier (such as a Decision Tree) is trained and used to make predictions on the training set. The relative weight of misclassified training instances is then increased. A second classifier is trained using the updated weights and again it makes predictions on the training set, weights are updated, and so on..."
   ]
  },
  {
   "cell_type": "code",
   "execution_count": 132,
   "metadata": {},
   "outputs": [
    {
     "data": {
      "text/plain": [
       "array([0.6117, 0.6236, 0.6206, 0.6178, 0.625 ])"
      ]
     },
     "execution_count": 132,
     "metadata": {},
     "output_type": "execute_result"
    }
   ],
   "source": [
    "from sklearn.ensemble import AdaBoostClassifier\n",
    "\n",
    "ada_clf = AdaBoostClassifier(\n",
    "    DecisionTreeClassifier(max_depth=1), n_estimators=200,\n",
    "    algorithm=\"SAMME.R\", learning_rate=0.5, random_state=42)\n",
    "ada_clf.fit(bike_prepared, bike_labels)\n",
    "\n",
    "cross_val_score(ada_clf, bike_prepared, bike_labels, cv=5, scoring=\"accuracy\")"
   ]
  },
  {
   "cell_type": "code",
   "execution_count": 133,
   "metadata": {},
   "outputs": [
    {
     "data": {
      "text/plain": [
       "0.6024957476100598"
      ]
     },
     "execution_count": 133,
     "metadata": {},
     "output_type": "execute_result"
    }
   ],
   "source": [
    "from sklearn.ensemble import GradientBoostingClassifier\n",
    "gbc_clf = GradientBoostingClassifier(\n",
    "    max_depth=2, n_estimators=3, learning_rate=1.0, random_state=42)\n",
    "y_scores_gbc = cross_val_predict(gbc_clf, bike_prepared, bike_labels, cv=5,\n",
    "                                method=\"decision_function\")\n",
    "roc_auc_score(bike_labels, y_scores_gbc)"
   ]
  },
  {
   "cell_type": "code",
   "execution_count": 134,
   "metadata": {},
   "outputs": [
    {
     "data": {
      "text/plain": [
       "0.6024957476100598"
      ]
     },
     "execution_count": 134,
     "metadata": {},
     "output_type": "execute_result"
    }
   ],
   "source": [
    "y_probas_gbc = cross_val_predict(gbc_clf, bike_prepared, bike_labels, cv=5,\n",
    "                                    method=\"predict_proba\")\n",
    "roc_auc_score(bike_labels, y_probas_gbc[:,1])"
   ]
  },
  {
   "cell_type": "code",
   "execution_count": 135,
   "metadata": {
    "collapsed": true
   },
   "outputs": [],
   "source": [
    "y_scores_gbc = y_probas_gbc[:,1] # score = proba of positive class\n",
    "fpr_gbc, tpr_gbc, thresholds_gbc = roc_curve(bike_labels, y_scores_gbc)"
   ]
  },
  {
   "cell_type": "code",
   "execution_count": 136,
   "metadata": {},
   "outputs": [
    {
     "data": {
      "image/png": "[encoded data removed]",
      "text/plain": [
       "<matplotlib.figure.Figure at 0x1146c5eb8>"
      ]
     },
     "metadata": {},
     "output_type": "display_data"
    }
   ],
   "source": [
    "plt.figure(figsize=(8, 6))\n",
    "plt.plot(fpr, tpr, \"b:\", linewidth=2, label=\"SGD\")\n",
    "plot_roc_curve(fpr_forest, tpr_forest, \"Random Forest\")\n",
    "plot_roc_curve(fpr_tree, tpr_tree, \"Decision Tree\")\n",
    "plot_roc_curve(fpr_knn, tpr_knn, \"KNN\")\n",
    "plot_roc_curve(fpr_gbc, tpr_gbc, \"Gradient Boosted Classifer\")\n",
    "plt.legend(loc=\"lower right\", fontsize=16)\n",
    "plt.show()"
   ]
  },
  {
   "cell_type": "markdown",
   "metadata": {},
   "source": [
    "From this we can see Gradient Boosted Classifer is the best model for the dataset. "
   ]
  },
  {
   "cell_type": "code",
   "execution_count": 137,
   "metadata": {},
   "outputs": [
    {
     "data": {
      "text/plain": [
       "0.6235030925121726"
      ]
     },
     "execution_count": 137,
     "metadata": {},
     "output_type": "execute_result"
    }
   ],
   "source": [
    "precision_score(bike_labels, y_scores_gbc.round())"
   ]
  },
  {
   "cell_type": "code",
   "execution_count": 138,
   "metadata": {},
   "outputs": [
    {
     "data": {
      "text/plain": [
       "0.9112122571959741"
      ]
     },
     "execution_count": 138,
     "metadata": {},
     "output_type": "execute_result"
    }
   ],
   "source": [
    "recall_score(bike_labels, y_scores_gbc.round())"
   ]
  },
  {
   "cell_type": "code",
   "execution_count": 139,
   "metadata": {},
   "outputs": [
    {
     "data": {
      "text/plain": [
       "0.7403896239191582"
      ]
     },
     "execution_count": 139,
     "metadata": {},
     "output_type": "execute_result"
    }
   ],
   "source": [
    "f1_score(bike_labels, y_scores_gbc.round())"
   ]
  },
  {
   "cell_type": "code",
   "execution_count": 140,
   "metadata": {},
   "outputs": [
    {
     "data": {
      "text/plain": [
       "array([[ 1880,  8583],\n",
       "       [ 1385, 14214]])"
      ]
     },
     "execution_count": 140,
     "metadata": {},
     "output_type": "execute_result"
    }
   ],
   "source": [
    "confusion_matrix(bike_labels, y_scores_gbc.round())"
   ]
  },
  {
   "cell_type": "code",
   "execution_count": 141,
   "metadata": {},
   "outputs": [
    {
     "name": "stdout",
     "output_type": "stream",
     "text": [
      "True Positives  (TP):  14214\n",
      "False Positives (FP):  8583\n",
      "True Negatives  (TN):  1880\n",
      "False Negatives (FN):  1385\n"
     ]
    }
   ],
   "source": [
    "tn, fp, fn, tp = confusion_matrix(bike_labels, y_scores_gbc.round()).ravel()\n",
    "print(\"True Positives  (TP): \", tp)\n",
    "print(\"False Positives (FP): \", fp)\n",
    "print(\"True Negatives  (TN): \", tn)\n",
    "print(\"False Negatives (FN): \", fn)"
   ]
  },
  {
   "cell_type": "code",
   "execution_count": 142,
   "metadata": {},
   "outputs": [
    {
     "data": {
      "text/plain": [
       "array([[99,  0],\n",
       "       [-1,  0]])"
      ]
     },
     "execution_count": 142,
     "metadata": {},
     "output_type": "execute_result"
    }
   ],
   "source": [
    "cost_ben = np.array([99, 0, -1, 0]).reshape(2,-1)\n",
    "cost_ben"
   ]
  },
  {
   "cell_type": "code",
   "execution_count": 143,
   "metadata": {},
   "outputs": [
    {
     "data": {
      "text/plain": [
       "array([[14214,  1385],\n",
       "       [ 8583,  1880]])"
      ]
     },
     "execution_count": 143,
     "metadata": {},
     "output_type": "execute_result"
    }
   ],
   "source": [
    "conf_matrix = np.array([tp, fn, fp, tn]).reshape(2, -1)\n",
    "conf_matrix"
   ]
  },
  {
   "cell_type": "code",
   "execution_count": 144,
   "metadata": {},
   "outputs": [
    {
     "data": {
      "text/plain": [
       "(0.5985342644463203, 0.4014657355536797)"
      ]
     },
     "execution_count": 144,
     "metadata": {},
     "output_type": "execute_result"
    }
   ],
   "source": [
    "pos_prior = (tp+fn)/(tp+fn+tn+fp)\n",
    "neg_prior = (fp+tn)/(tp+fn+tn+fp)\n",
    "(pos_prior, neg_prior)"
   ]
  },
  {
   "cell_type": "code",
   "execution_count": 145,
   "metadata": {
    "collapsed": true
   },
   "outputs": [],
   "source": [
    "tpr_gbc = tp/(tp+fn)\n",
    "fpr_gbc = fp/(fp+tn)\n",
    "tnr_gbc = tn/(tn+fp)\n",
    "fnr_gbc = fn/(fn+tp)"
   ]
  },
  {
   "cell_type": "code",
   "execution_count": 146,
   "metadata": {},
   "outputs": [
    {
     "data": {
      "text/plain": [
       "array([[0.9112, 0.0888],\n",
       "       [0.8203, 0.1797]])"
      ]
     },
     "execution_count": 146,
     "metadata": {},
     "output_type": "execute_result"
    }
   ],
   "source": [
    "rates = np.array([tpr_gbc, fnr_gbc, fpr_gbc, tnr_gbc]).reshape(2, -1)\n",
    "rates"
   ]
  },
  {
   "cell_type": "code",
   "execution_count": 147,
   "metadata": {},
   "outputs": [
    {
     "data": {
      "text/plain": [
       "array([[90.1212,  0.    ],\n",
       "       [81.0319,  0.    ]])"
      ]
     },
     "execution_count": 147,
     "metadata": {},
     "output_type": "execute_result"
    }
   ],
   "source": [
    "rates.dot(cost_ben)"
   ]
  },
  {
   "cell_type": "code",
   "execution_count": 148,
   "metadata": {},
   "outputs": [
    {
     "data": {
      "text/plain": [
       "90.1212257195974"
      ]
     },
     "execution_count": 148,
     "metadata": {},
     "output_type": "execute_result"
    }
   ],
   "source": [
    "rates.dot(cost_ben)[0,0]"
   ]
  },
  {
   "cell_type": "code",
   "execution_count": 149,
   "metadata": {},
   "outputs": [
    {
     "data": {
      "text/plain": [
       "86.47218172051262"
      ]
     },
     "execution_count": 149,
     "metadata": {},
     "output_type": "execute_result"
    }
   ],
   "source": [
    "expected_profit = pos_prior*(rates.dot(cost_ben)[0,0]+ rates.dot(cost_ben)[0,1])+neg_prior*(rates.dot(cost_ben)[1,0]+ rates.dot(cost_ben)[1,1])\n",
    "expected_profit"
   ]
  },
  {
   "cell_type": "markdown",
   "metadata": {
    "collapsed": true
   },
   "source": [
    "-  AdaBoostClassifier<br>\n",
    "5 fold CV Accuracy<br>\n",
    "0.6117, 0.6236, 0.6206, 0.6178, 0.625\n",
    "\n",
    "\n",
    "\n",
    "-  GradientBoostingClassifier<br>\n",
    "method=\"decision_function\"<br>\n",
    "roc_auc_score: 0.6024957476100598<br>\n",
    "method=\"predict_proba\"<br>\n",
    "roc_auc_score: 0.6024957476100598<br>\n",
    "precision_score:0.6235030925121726<br>\n",
    "recall_score: 0.9112122571959741<br><br>\n",
    "f1_score:0.7403896239191582<br>\n",
    "True Positives  (TP):  14214<br>\n",
    "False Positives (FP):  8583<br>\n",
    "True Negatives  (TN):  1880<br>\n",
    "False Negatives (FN):  1385<br>"
   ]
  },
  {
   "cell_type": "markdown",
   "metadata": {},
   "source": []
  }
 ],
 "metadata": {
  "kernelspec": {
   "display_name": "Python 3",
   "language": "python",
   "name": "python3"
  },
  "language_info": {
   "codemirror_mode": {
    "name": "ipython",
    "version": 3
   },
   "file_extension": ".py",
   "mimetype": "text/x-python",
   "name": "python",
   "nbconvert_exporter": "python",
   "pygments_lexer": "ipython3",
   "version": "3.6.2"
  }
 },
 "nbformat": 4,
 "nbformat_minor": 2
}
